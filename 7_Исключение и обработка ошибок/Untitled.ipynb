{
 "cells": [
  {
   "cell_type": "markdown",
   "metadata": {},
   "source": [
    "Задание 1.\n",
    "Напишите функцию date_range, которая возвращает список дней между датами start_date и end_date. \n",
    "Даты должны вводиться в формате YYYY-MM-DD."
   ]
  },
  {
   "cell_type": "markdown",
   "metadata": {},
   "source": [
    "Задание 2.\n",
    "Дополните функцию из первого задания проверкой на корректность дат. В случае неверного формата или \n",
    "если start_date > end_date должен возвращаться пустой список."
   ]
  },
  {
   "cell_type": "code",
   "execution_count": 1,
   "metadata": {
    "scrolled": true
   },
   "outputs": [
    {
     "name": "stdout",
     "output_type": "stream",
     "text": [
      "Введите дату начала в формате: YYYY-MM-DD: 2018.10.10\n",
      "Введите дату окончания в формате: YYYY-MM-DD: 2015.010\n"
     ]
    },
    {
     "data": {
      "text/plain": [
       "[]"
      ]
     },
     "execution_count": 1,
     "metadata": {},
     "output_type": "execute_result"
    }
   ],
   "source": [
    "from datetime import datetime\n",
    "from datetime import timedelta\n",
    "\n",
    "empty_list = []\n",
    "\n",
    "start_date = input('Введите дату начала в формате: YYYY-MM-DD: ')    \n",
    "end_date = input('Введите дату окончания в формате: YYYY-MM-DD: ')  \n",
    "      \n",
    "date_format = '%Y-%m-%d' \n",
    "\n",
    "def validate(start_date, end_date):   \n",
    "    \n",
    "    try:    \n",
    "        if (start_date != datetime.strptime(start_date, date_format).strftime(date_format) or \n",
    "            end_date != datetime.strptime(end_date, date_format).strftime(date_format)):\n",
    "            raise ValueError\n",
    "                \n",
    "    except ValueError:\n",
    "        return empty_list\n",
    "    \n",
    "\n",
    "    def date_range(start_date, end_date):   \n",
    "\n",
    "        start_date_dt = datetime.strptime(start_date, date_format)\n",
    "        end_date_dt = datetime.strptime(end_date, date_format)\n",
    "        current_dt = start_date_dt   \n",
    "        delta_dt = (end_date_dt - start_date_dt).days \n",
    "        \n",
    "        if delta_dt > 0:\n",
    "\n",
    "            while current_dt <= end_date_dt:\n",
    "                print(current_dt.strftime('%Y-%m-%d'))\n",
    "                current_dt += timedelta(days=1)  \n",
    "        else:\n",
    "            print('\\nДата начала позже даты окончания.')\n",
    "            print(empty_list)\n",
    "\n",
    "    date_range(start_date, end_date)\n",
    "\n",
    "validate(start_date, end_date)"
   ]
  },
  {
   "cell_type": "markdown",
   "metadata": {},
   "source": [
    "Задание 3. \n",
    "Дан поток дат в формате YYYY-MM-DD, в которых встречаются некорректные значения:\n",
    "stream = [‘2018-04-02’, ‘2018-02-29’, ‘2018-19-02’]. \n",
    "Напишите функцию, которая проверяет эти даты на корректность. \n",
    "Т. е. для каждой даты возвращает True (дата корректна) или False (некорректная дата)."
   ]
  },
  {
   "cell_type": "code",
   "execution_count": 11,
   "metadata": {},
   "outputs": [
    {
     "name": "stdout",
     "output_type": "stream",
     "text": [
      "True\n",
      "False\n",
      "False\n"
     ]
    }
   ],
   "source": [
    "from datetime import datetime\n",
    "\n",
    "stream = ['2018-04-02', '2018-02-29', '2018-19-02']\n",
    "\n",
    "def validate(stream):\n",
    "    for num in stream:\n",
    "              \n",
    "        try:               \n",
    "            if num != datetime.strptime(num, \"%Y-%m-%d\").strftime('%Y-%m-%d'):\n",
    "                raise ValueError\n",
    "            print('True')\n",
    "        \n",
    "        except ValueError:\n",
    "            print('False')\n",
    "validate(stream)"
   ]
  },
  {
   "cell_type": "code",
   "execution_count": null,
   "metadata": {},
   "outputs": [],
   "source": []
  }
 ],
 "metadata": {
  "kernelspec": {
   "display_name": "Python 3",
   "language": "python",
   "name": "python3"
  },
  "language_info": {
   "codemirror_mode": {
    "name": "ipython",
    "version": 3
   },
   "file_extension": ".py",
   "mimetype": "text/x-python",
   "name": "python",
   "nbconvert_exporter": "python",
   "pygments_lexer": "ipython3",
   "version": "3.7.4"
  }
 },
 "nbformat": 4,
 "nbformat_minor": 2
}
