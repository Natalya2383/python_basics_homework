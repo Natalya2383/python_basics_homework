{
 "cells": [
  {
   "cell_type": "markdown",
   "metadata": {},
   "source": [
    "## Домашняя работа \n",
    "## ПРОИЗВОДНАЯ И ГРАДИЕНТНЫЙ СПУСК"
   ]
  },
  {
   "cell_type": "code",
   "execution_count": 1,
   "metadata": {},
   "outputs": [],
   "source": [
    "import matplotlib.pyplot as plt\n",
    "import numpy as np\n",
    "import pylab\n",
    "\n",
    "from mpl_toolkits.mplot3d import Axes3D\n",
    "from matplotlib import cm\n",
    "from matplotlib.ticker import LinearLocator, FormatStrFormatter\n",
    "from scipy.misc import derivative, electrocardiogram\n",
    "from scipy.optimize import minimize, approx_fprime, fmin, brute\n",
    "from scipy.signal import find_peaks\n",
    "\n",
    "%matplotlib inline"
   ]
  },
  {
   "cell_type": "markdown",
   "metadata": {},
   "source": [
    "\n",
    "## Задание 1.\n",
    "\n",
    "Придумайте функции со следующими свойствами (в a) b) c) область определения X любая, какая вам удобна, главное - функция с нужными свойствами):\n",
    "\n",
    "a) бесконечное количество локальных экстремумов\n",
    "\n",
    "b) 2 локальных экстремума\n",
    "\n",
    "с) 3 локальных экстремума\n",
    "\n",
    "d*) область определения функции - 1 точка\n"
   ]
  },
  {
   "cell_type": "markdown",
   "metadata": {},
   "source": [
    "#### Примеры функций\n",
    "\n",
    "$a) f(x) = sinx$\n",
    "\n",
    "$b) f(x) = |x|(x+2)-3x$\n",
    "\n",
    "$c) f(x) = |x^2 - 6x + 3|$\n",
    "\n",
    "$d) f(x) = 5$"
   ]
  },
  {
   "cell_type": "markdown",
   "metadata": {},
   "source": [
    "## Задание 2.\n",
    "\n",
    "Посчитайте 1-ую и 2-ую производные функции (на бумажке): \n",
    "\n",
    "$f(x) = sin^2(2x+1)$\n"
   ]
  },
  {
   "cell_type": "markdown",
   "metadata": {},
   "source": [
    "#### Расчет первой производной\n",
    "\n",
    "$f'(x) = sin^2(2x+1)' * (2x+1)'$\n",
    "\n",
    "$f'(x) = (sin(2x+1)*sin(2x+1))' * 2$\n",
    "\n",
    "$f'(x) = 2 * (cos(2x+1)*sin(2x+1) + cos(2x+1)*sin(2x+1))$\n",
    "\n",
    "$f'(x) = 4 * cos(2x+1)*sin(2x+1)$\n",
    "\n",
    "$f'(x) = 4 * (sin(2x+1-2x-1) + sin(2x+1+2x+1)) * 1/2$\n",
    "\n",
    "$f'(x) = 2*sin(4x+2)$\n",
    "\n",
    "#### Расчет второй производной\n",
    "$f''(x) = (2*sin(4x+2))'$\n",
    "\n",
    "$f''(x) = 2*4*cos(4x+2)$\n",
    "\n",
    "$f''(x) = 8*cos(4x+2)$"
   ]
  },
  {
   "cell_type": "markdown",
   "metadata": {},
   "source": [
    "## Задание 3.\n",
    "\n",
    "Посчитайте частные производные функции в точке (1,2) - на бумажке или в LaTeX и на numpy:\n",
    "\n",
    "$f(x,y)=2x^2y^3 + 1/x + y^2x + 7$."
   ]
  },
  {
   "cell_type": "markdown",
   "metadata": {},
   "source": [
    "#### Частная производная функции f(x,y) по x:\n",
    "\n",
    "$f'_x=4xy^3 - 1/x^2 + y^2$\n",
    "\n",
    "$f'_x(1,2)=4*1*8-1+4$\n",
    "\n",
    "$f'_x(1,2)=35$\n",
    "\n",
    "#### Частная производная функции f(x,y) по y:\n",
    "\n",
    "$f'_y=6x^2y^2 + 2xy$\n",
    "\n",
    "$f'_y(1,2)=64+2*1*2$\n",
    "\n",
    "$f'_y(1,2)=28$\n",
    "\n",
    "#### Частные производные функции f(x,y) в точке (1, 2):\n",
    "\n",
    "$grad_f(1,2) = (35, 28)$\n"
   ]
  },
  {
   "cell_type": "code",
   "execution_count": 24,
   "metadata": {},
   "outputs": [
    {
     "data": {
      "text/plain": [
       "array([35.00000024, 28.00000024])"
      ]
     },
     "execution_count": 24,
     "metadata": {},
     "output_type": "execute_result"
    }
   ],
   "source": [
    "#расчет частных производных в точке (1, 2) при помоще numpy\n",
    "\n",
    "def func(x, c0, c1):\n",
    "    \"Coordinate vector `x` should be an array of size two.\"\n",
    "    return c0*x[0]**2 * x[1]**3 + 1/x[0] +  x[1]**2 * x[0] + c1\n",
    "\n",
    "x = np.array([1, 2])\n",
    "c0, c1 = (2, 7)\n",
    "eps = np.sqrt(np.finfo(float).eps)\n",
    "approx_fprime(x, func, [eps, eps], c0, c1)"
   ]
  },
  {
   "cell_type": "markdown",
   "metadata": {},
   "source": [
    "## Задание 4.\n",
    "\n",
    "Рассчитать градиентный спуск.\n"
   ]
  },
  {
   "cell_type": "code",
   "execution_count": 38,
   "metadata": {},
   "outputs": [
    {
     "name": "stdout",
     "output_type": "stream",
     "text": [
      "Optimization terminated successfully.\n",
      "         Current function value: 0.000000\n",
      "         Iterations: 72\n",
      "         Function evaluations: 138\n"
     ]
    }
   ],
   "source": [
    "def f1(x):\n",
    "    return (x[0]**2) + (x[1]**2) \n",
    "\n",
    "res = minimize(f1, [100, 200], method='nelder-mead', options={'xtol': 1e-6, 'disp': True})"
   ]
  },
  {
   "cell_type": "code",
   "execution_count": null,
   "metadata": {},
   "outputs": [],
   "source": []
  }
 ],
 "metadata": {
  "kernelspec": {
   "display_name": "Python 3",
   "language": "python",
   "name": "python3"
  },
  "language_info": {
   "codemirror_mode": {
    "name": "ipython",
    "version": 3
   },
   "file_extension": ".py",
   "mimetype": "text/x-python",
   "name": "python",
   "nbconvert_exporter": "python",
   "pygments_lexer": "ipython3",
   "version": "3.7.4"
  }
 },
 "nbformat": 4,
 "nbformat_minor": 2
}
