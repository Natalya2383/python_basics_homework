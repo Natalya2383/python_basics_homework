{
 "cells": [
  {
   "cell_type": "markdown",
   "metadata": {},
   "source": [
    "## FEATURE ENGINEERING"
   ]
  },
  {
   "cell_type": "markdown",
   "metadata": {},
   "source": [
    "### Домашняя работа 1"
   ]
  },
  {
   "cell_type": "code",
   "execution_count": 1,
   "metadata": {},
   "outputs": [],
   "source": [
    "import numpy as np\n",
    "import pandas as pd\n",
    "\n",
    "from sklearn.linear_model import LinearRegression"
   ]
  },
  {
   "cell_type": "markdown",
   "metadata": {},
   "source": [
    "Проанализируем данные о ежемесячных затратах компании на оплату заработной платы сотрудникам.\n",
    "Зарплата сотрудника зависит от количества отработанных часов в месяц и сложности выполненной работы. Сложность выполненной работы учитывается в дифференцированных затратах в час."
   ]
  },
  {
   "cell_type": "code",
   "execution_count": 2,
   "metadata": {},
   "outputs": [],
   "source": [
    "# Создаём сэмпл с количеством наблюдений = 1000\n",
    "n_samples = 1000"
   ]
  },
  {
   "cell_type": "markdown",
   "metadata": {},
   "source": [
    "Добавим в таблицу следующие данные: \n",
    "\n",
    "1) возраст сотрудника (от 23 до 60 лет);\n",
    "\n",
    "2) стоимость 1 часа работы сотрудника (от 100 до 4000);\n",
    "\n",
    "3) количество отработанных часов в месяц (от 0 до 176)."
   ]
  },
  {
   "cell_type": "code",
   "execution_count": 3,
   "metadata": {},
   "outputs": [],
   "source": [
    "# Возраст сотрудника\n",
    "age_employee = np.random.choice(37, n_samples) + 23\n",
    "\n",
    "# Удельная стоимость работ сотрудника\n",
    "cost_of_hour = np.random.choice(3900, n_samples) + 100\n",
    "\n",
    "# Количество отработанных часов\n",
    "work_hours = np.random.choice(8*22, n_samples) + 0"
   ]
  },
  {
   "cell_type": "markdown",
   "metadata": {},
   "source": [
    "Определим формулу для расчета затрат компании на зарплату сотрудников."
   ]
  },
  {
   "cell_type": "code",
   "execution_count": 4,
   "metadata": {},
   "outputs": [],
   "source": [
    "# Расчет затрат компании на зарплату сотрудников\n",
    "employee_cost = cost_of_hour * work_hours * 50"
   ]
  },
  {
   "cell_type": "markdown",
   "metadata": {},
   "source": [
    "Создадим датасет со всеми подготовленными данными."
   ]
  },
  {
   "cell_type": "code",
   "execution_count": 5,
   "metadata": {},
   "outputs": [
    {
     "data": {
      "text/html": [
       "<div>\n",
       "<style scoped>\n",
       "    .dataframe tbody tr th:only-of-type {\n",
       "        vertical-align: middle;\n",
       "    }\n",
       "\n",
       "    .dataframe tbody tr th {\n",
       "        vertical-align: top;\n",
       "    }\n",
       "\n",
       "    .dataframe thead th {\n",
       "        text-align: right;\n",
       "    }\n",
       "</style>\n",
       "<table border=\"1\" class=\"dataframe\">\n",
       "  <thead>\n",
       "    <tr style=\"text-align: right;\">\n",
       "      <th></th>\n",
       "      <th>age_employee</th>\n",
       "      <th>cost_of_hour</th>\n",
       "      <th>work_hours</th>\n",
       "      <th>employee_cost</th>\n",
       "    </tr>\n",
       "  </thead>\n",
       "  <tbody>\n",
       "    <tr>\n",
       "      <td>0</td>\n",
       "      <td>58</td>\n",
       "      <td>2157</td>\n",
       "      <td>62</td>\n",
       "      <td>6686700</td>\n",
       "    </tr>\n",
       "    <tr>\n",
       "      <td>1</td>\n",
       "      <td>41</td>\n",
       "      <td>2146</td>\n",
       "      <td>162</td>\n",
       "      <td>17382600</td>\n",
       "    </tr>\n",
       "    <tr>\n",
       "      <td>2</td>\n",
       "      <td>34</td>\n",
       "      <td>3511</td>\n",
       "      <td>64</td>\n",
       "      <td>11235200</td>\n",
       "    </tr>\n",
       "    <tr>\n",
       "      <td>3</td>\n",
       "      <td>29</td>\n",
       "      <td>2524</td>\n",
       "      <td>107</td>\n",
       "      <td>13503400</td>\n",
       "    </tr>\n",
       "    <tr>\n",
       "      <td>4</td>\n",
       "      <td>53</td>\n",
       "      <td>2908</td>\n",
       "      <td>60</td>\n",
       "      <td>8724000</td>\n",
       "    </tr>\n",
       "  </tbody>\n",
       "</table>\n",
       "</div>"
      ],
      "text/plain": [
       "   age_employee  cost_of_hour  work_hours  employee_cost\n",
       "0            58          2157          62        6686700\n",
       "1            41          2146         162       17382600\n",
       "2            34          3511          64       11235200\n",
       "3            29          2524         107       13503400\n",
       "4            53          2908          60        8724000"
      ]
     },
     "execution_count": 5,
     "metadata": {},
     "output_type": "execute_result"
    }
   ],
   "source": [
    "# Создадим датасет\n",
    "data = pd.DataFrame({'age_employee': age_employee, 'cost_of_hour': cost_of_hour, 'work_hours': work_hours, 'employee_cost': employee_cost})\n",
    "data.head(5)"
   ]
  },
  {
   "cell_type": "markdown",
   "metadata": {},
   "source": [
    "Предположим, что все данные из датасета влияют на итоговую величину employee_cost. Поэтому обучим модель с учетом всех данных датасета и посмотрим на ошибку."
   ]
  },
  {
   "cell_type": "code",
   "execution_count": 6,
   "metadata": {},
   "outputs": [
    {
     "name": "stdout",
     "output_type": "stream",
     "text": [
      "Weights: [ -1472.07353446   4123.95955809 103823.7475558 ]\n",
      "Bias: -8441669.921550808\n",
      "Error: 2164822.862951013\n"
     ]
    }
   ],
   "source": [
    "from sklearn.metrics import mean_absolute_error\n",
    "\n",
    "X = data[['age_employee', 'cost_of_hour', 'work_hours']]\n",
    "y = data['employee_cost']\n",
    "reg = LinearRegression().fit(X, y)\n",
    "print('Weights: {}'.format(reg.coef_))\n",
    "print('Bias: {}'.format(reg.intercept_))\n",
    "\n",
    "pred_values = reg.predict(data[['age_employee', 'cost_of_hour', 'work_hours']])\n",
    "print('Error: {}'.format(mean_absolute_error(pred_values, y)))"
   ]
  },
  {
   "cell_type": "markdown",
   "metadata": {},
   "source": [
    "#### Вывод: значительный размер ошибки, зависимость определена неверно."
   ]
  },
  {
   "cell_type": "markdown",
   "metadata": {},
   "source": [
    "Предположим, что возраст сотрудников не влияет на итоговую величину employee_cost. Поэтому не будем учитывать age_employee при построении регрессии и проанализируем полученные данные."
   ]
  },
  {
   "cell_type": "code",
   "execution_count": 7,
   "metadata": {},
   "outputs": [
    {
     "name": "stdout",
     "output_type": "stream",
     "text": [
      "Weights: [  4124.31220937 103821.57211067]\n",
      "Bias: -8501595.018985493\n",
      "Error: 2164841.256004379\n"
     ]
    }
   ],
   "source": [
    "X = data[['cost_of_hour', 'work_hours']]\n",
    "y = data['employee_cost']\n",
    "reg = LinearRegression().fit(X, y)\n",
    "print('Weights: {}'.format(reg.coef_))\n",
    "print('Bias: {}'.format(reg.intercept_))\n",
    "\n",
    "pred_values = reg.predict(data[['cost_of_hour', 'work_hours']])\n",
    "print('Error: {}'.format(mean_absolute_error(pred_values, y)))"
   ]
  },
  {
   "cell_type": "markdown",
   "metadata": {},
   "source": [
    "#### Вывод: значительный размер ошибки, зависимость определена неверно."
   ]
  },
  {
   "cell_type": "markdown",
   "metadata": {},
   "source": [
    "Создадим новый признак из двух существующих и учтем его при построении регрессии."
   ]
  },
  {
   "cell_type": "code",
   "execution_count": 8,
   "metadata": {},
   "outputs": [
    {
     "data": {
      "text/html": [
       "<div>\n",
       "<style scoped>\n",
       "    .dataframe tbody tr th:only-of-type {\n",
       "        vertical-align: middle;\n",
       "    }\n",
       "\n",
       "    .dataframe tbody tr th {\n",
       "        vertical-align: top;\n",
       "    }\n",
       "\n",
       "    .dataframe thead th {\n",
       "        text-align: right;\n",
       "    }\n",
       "</style>\n",
       "<table border=\"1\" class=\"dataframe\">\n",
       "  <thead>\n",
       "    <tr style=\"text-align: right;\">\n",
       "      <th></th>\n",
       "      <th>age_employee</th>\n",
       "      <th>cost_of_hour</th>\n",
       "      <th>work_hours</th>\n",
       "      <th>employee_cost</th>\n",
       "      <th>volume</th>\n",
       "    </tr>\n",
       "  </thead>\n",
       "  <tbody>\n",
       "    <tr>\n",
       "      <td>0</td>\n",
       "      <td>58</td>\n",
       "      <td>2157</td>\n",
       "      <td>62</td>\n",
       "      <td>6686700</td>\n",
       "      <td>133734</td>\n",
       "    </tr>\n",
       "    <tr>\n",
       "      <td>1</td>\n",
       "      <td>41</td>\n",
       "      <td>2146</td>\n",
       "      <td>162</td>\n",
       "      <td>17382600</td>\n",
       "      <td>347652</td>\n",
       "    </tr>\n",
       "    <tr>\n",
       "      <td>2</td>\n",
       "      <td>34</td>\n",
       "      <td>3511</td>\n",
       "      <td>64</td>\n",
       "      <td>11235200</td>\n",
       "      <td>224704</td>\n",
       "    </tr>\n",
       "    <tr>\n",
       "      <td>3</td>\n",
       "      <td>29</td>\n",
       "      <td>2524</td>\n",
       "      <td>107</td>\n",
       "      <td>13503400</td>\n",
       "      <td>270068</td>\n",
       "    </tr>\n",
       "    <tr>\n",
       "      <td>4</td>\n",
       "      <td>53</td>\n",
       "      <td>2908</td>\n",
       "      <td>60</td>\n",
       "      <td>8724000</td>\n",
       "      <td>174480</td>\n",
       "    </tr>\n",
       "  </tbody>\n",
       "</table>\n",
       "</div>"
      ],
      "text/plain": [
       "   age_employee  cost_of_hour  work_hours  employee_cost  volume\n",
       "0            58          2157          62        6686700  133734\n",
       "1            41          2146         162       17382600  347652\n",
       "2            34          3511          64       11235200  224704\n",
       "3            29          2524         107       13503400  270068\n",
       "4            53          2908          60        8724000  174480"
      ]
     },
     "execution_count": 8,
     "metadata": {},
     "output_type": "execute_result"
    }
   ],
   "source": [
    "# Создаем новый признак\n",
    "data['volume'] = data['cost_of_hour'] * data['work_hours']\n",
    "data.head(5)"
   ]
  },
  {
   "cell_type": "code",
   "execution_count": 9,
   "metadata": {},
   "outputs": [
    {
     "name": "stdout",
     "output_type": "stream",
     "text": [
      "Weights: [50.]\n",
      "Bias: 1.862645149230957e-09\n",
      "Error: 1.5366822481155395e-09\n"
     ]
    }
   ],
   "source": [
    "X = data[['volume']]\n",
    "y = data['employee_cost']\n",
    "reg = LinearRegression().fit(X, y)\n",
    "print('Weights: {}'.format(reg.coef_))\n",
    "print('Bias: {}'.format(reg.intercept_))\n",
    "\n",
    "pred_values = reg.predict(data[['volume']])\n",
    "print('Error: {}'.format(mean_absolute_error(pred_values, y)))"
   ]
  },
  {
   "cell_type": "markdown",
   "metadata": {},
   "source": [
    "#### Вывод: размер ошибки значительно меньше 0 , следовательно зависимость определена верно."
   ]
  },
  {
   "cell_type": "code",
   "execution_count": null,
   "metadata": {},
   "outputs": [],
   "source": []
  }
 ],
 "metadata": {
  "kernelspec": {
   "display_name": "Python 3",
   "language": "python",
   "name": "python3"
  },
  "language_info": {
   "codemirror_mode": {
    "name": "ipython",
    "version": 3
   },
   "file_extension": ".py",
   "mimetype": "text/x-python",
   "name": "python",
   "nbconvert_exporter": "python",
   "pygments_lexer": "ipython3",
   "version": "3.7.4"
  }
 },
 "nbformat": 4,
 "nbformat_minor": 2
}
