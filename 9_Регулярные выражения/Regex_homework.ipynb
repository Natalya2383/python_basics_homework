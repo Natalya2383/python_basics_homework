{
 "cells": [
  {
   "cell_type": "markdown",
   "metadata": {},
   "source": [
    "Задание 1. \n",
    "Напишите функцию, которая принимает на вход строку и проверяет является ли она валидным транспортным номером. \n",
    "Если да, то функция должна возвращать отдельно номер и регион."
   ]
  },
  {
   "cell_type": "code",
   "execution_count": 2,
   "metadata": {},
   "outputs": [
    {
     "name": "stdout",
     "output_type": "stream",
     "text": [
      "Введите номер автомобиля:  А123АА777RUS\n"
     ]
    },
    {
     "data": {
      "text/plain": [
       "'Номер автомобиля: 123. Регион: 777'"
      ]
     },
     "execution_count": 2,
     "metadata": {},
     "output_type": "execute_result"
    }
   ],
   "source": [
    "import re\n",
    "\n",
    "def valid_car_number():\n",
    "    \"\"\"\n",
    "    Принимает на вход номер транспортного средства в формате А000АА777RUS и проверяет его на валидность.\n",
    "    Возвращает отдельно номер и регион регистрации транспортного средства.\n",
    "    Допускается номер автомобиля 000 и регион 00. \n",
    "    \"\"\"\n",
    "    car_number = input('Введите номер автомобиля: ')\n",
    "    car_number = re.sub(' ','', car_number)\n",
    "    regex_car_number = '([АВЕКМНОРСТУХABEKMHOPCTYX]{1})([\\d]{3})([АВЕКМНОРСТУХABEKMHOPCTYX]{2})([\\d]{2,3})(RUS)'\n",
    "    result = re.findall(regex_car_number, car_number, flags=re.I)\n",
    "    \n",
    "    if result:\n",
    "        return 'Номер автомобиля: ' + result[0][1] + '. Регион: ' + result[0][3]\n",
    "    else:\n",
    "        return 'Номер автомобиля введен не верно.'\n",
    "        \n",
    "valid_car_number()\n"
   ]
  },
  {
   "cell_type": "markdown",
   "metadata": {},
   "source": [
    "Задание 2. \n",
    "Напишите функцию, которая проверяет e-mail адрес на валидность \n",
    "по стандарту RFC822: http://www.w3.org/Protocols/rfc822/. Для этого постарайтесь написать (в крайнем случае найти) самый полный шаблон для проверки e-mail адресов через регулярное выражение. Разберитесь и напишите примеры, какие ваш шаблон может не охватить."
   ]
  },
  {
   "cell_type": "code",
   "execution_count": 3,
   "metadata": {},
   "outputs": [
    {
     "name": "stdout",
     "output_type": "stream",
     "text": [
      "Введите email: QAZWSXzaqwsx@zaqwsxZAQWSX.com\n"
     ]
    },
    {
     "data": {
      "text/plain": [
       "'Valid email.'"
      ]
     },
     "execution_count": 3,
     "metadata": {},
     "output_type": "execute_result"
    }
   ],
   "source": [
    "import re\n",
    "def valid_email(): \n",
    "    \"\"\"\n",
    "    Принимает на вход e-mail адрес и проверяет его на валидность по стандарту \n",
    "    RFC822: http://www.w3.org/Protocols/rfc822/. \n",
    "    При этом чась email адресов шаблон не охватывает, например:\n",
    "    1) !#$%&'*+-/=?^_`{}|~@example.com\n",
    "    2) \"Ivanov Ivan\"@example.com\n",
    "    3) \" \"@example.com\n",
    "    \"\"\"\n",
    "    email = input('Введите email: ')\n",
    "    result = re.search(r'(^[a-zA-Z0-9_.+-]+@[a-zA-Z0-9]+\\.[a-zA-Z0-9.]*\\.*[a-zа-я]{0,}$)',email)\n",
    "    \n",
    "    if result:\n",
    "        return 'Valid email.'\n",
    "    else:\n",
    "        return 'Invalid email.'\n",
    "    \n",
    "valid_email()"
   ]
  },
  {
   "cell_type": "markdown",
   "metadata": {},
   "source": [
    "Задание 3. \n",
    "Напишите функцию, которая будет удалять все последовательные повторы слов из заданной строки при помощи \n",
    "регулярных выражений."
   ]
  },
  {
   "cell_type": "code",
   "execution_count": 4,
   "metadata": {},
   "outputs": [
    {
     "data": {
      "text/plain": [
       "'январь февраль март апрель май июнь'"
      ]
     },
     "execution_count": 4,
     "metadata": {},
     "output_type": "execute_result"
    }
   ],
   "source": [
    "text = '  январь Январь февраль март МАРТ Март апрель апрель май МАЙ июнь июнь   '\n",
    "\n",
    "import re\n",
    "def del_repeats(text):\n",
    "    \"\"\"\n",
    "    Принимает на вход текст.\n",
    "    Удаляет все последовательные повторы слов из текста.\n",
    "    \"\"\"\n",
    "    \n",
    "    new_text = re.sub(r'\\b([^\\W\\d_]+)(\\s+\\1)+\\b', r'\\1', re.sub(r'\\W+', ' ', text).strip(), flags=re.I) \n",
    "    \n",
    "    return new_text\n",
    "\n",
    "del_repeats(text)"
   ]
  },
  {
   "cell_type": "markdown",
   "metadata": {},
   "source": [
    "Задание 4. Напишите функцию, которая будет проверять номер сотового телефона на валидность, если он валиден, то переводить его в формат:\n",
    "+7(xxx)-xxx-xx-xx\n",
    "Постарайтесь предусмотреть как можно больше адекватных форматов изначального ввода номера. Примеры валидных форматов:\n",
    "\n",
    "    +7 955 555-55-55;\n",
    "    9555555555;\n",
    "    8(955)555-55-55;\n",
    "    +7 955 555 55 55;\n",
    "    7(955) 555-55-55;\n",
    "    +7 955+555+55+55.\n",
    "\n"
   ]
  },
  {
   "cell_type": "code",
   "execution_count": 5,
   "metadata": {},
   "outputs": [
    {
     "name": "stdout",
     "output_type": "stream",
     "text": [
      "Введите номер телефона:   8 919 7777777\n",
      "+7(919)-777-77-77\n"
     ]
    }
   ],
   "source": [
    "import re\n",
    "def valid_tel_number():\n",
    "    \"\"\"\n",
    "    Принимает на вход номер сотового телефона оператора России и проверяет его на валидность.\n",
    "    Если он валиден, то переводит его в формат: +7(xxx)-xxx-xx-xx. \n",
    "    \"\"\"\n",
    "    \n",
    "    tel_number = input('Введите номер телефона: ')\n",
    "    tel_number = re.sub('\\D','', tel_number)\n",
    "       \n",
    "    tel_number_10 = re.sub('([9]{1})([\\d]{2})([\\d]{3})([\\d]{2})([\\d]{2})', r'+7(\\1\\2)-\\3-\\4-\\5', tel_number)\n",
    "    tel_number_11 = re.sub('([7,8]{1})([\\d]{3})([\\d]{3})([\\d]{2})([\\d]{2})', r'+7(\\2)-\\3-\\4-\\5', tel_number)\n",
    "   \n",
    "    if len(tel_number) == 10:\n",
    "        if tel_number_10 == tel_number:\n",
    "            print('Проверьте правильность первой цифры.')\n",
    "        else:\n",
    "            print(tel_number_10)\n",
    "        \n",
    "    if len(tel_number) == 11:\n",
    "        if tel_number_11 == tel_number:\n",
    "            print('Проверьте правильность первой цифры.')\n",
    "        else: \n",
    "            print(tel_number_11)\n",
    "            \n",
    "    if len(tel_number) > 11:\n",
    "        print('Вы ввели больше цифр, чем нужно.')\n",
    "        \n",
    "    if len(tel_number) < 10:\n",
    "        print('Вы ввели недостаточно цифр.')\n",
    "\n",
    "valid_tel_number()"
   ]
  }
 ],
 "metadata": {
  "kernelspec": {
   "display_name": "Python 3",
   "language": "python",
   "name": "python3"
  },
  "language_info": {
   "codemirror_mode": {
    "name": "ipython",
    "version": 3
   },
   "file_extension": ".py",
   "mimetype": "text/x-python",
   "name": "python",
   "nbconvert_exporter": "python",
   "pygments_lexer": "ipython3",
   "version": "3.7.4"
  }
 },
 "nbformat": 4,
 "nbformat_minor": 2
}
