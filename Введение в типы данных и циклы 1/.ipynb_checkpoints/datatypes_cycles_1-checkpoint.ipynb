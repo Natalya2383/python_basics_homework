{
 "cells": [
  {
   "cell_type": "markdown",
   "metadata": {},
   "source": [
    "**Задача 1**. Дано слово из латинских букв. Напишите скрипт, который выводит на экран букву из середины слова (если число букв нечетное). Если букв четное число, то на экран выводятся две буквы из середины.  \n",
    "\n",
    "Пример: для 'test' должно выводится 'es', для 'testing' - 't'"
   ]
  },
  {
   "cell_type": "code",
   "execution_count": 1,
   "metadata": {},
   "outputs": [
    {
     "name": "stdout",
     "output_type": "stream",
     "text": [
      "Введите слово, состоящее из латинских букв\n",
      "testing\n",
      "\n",
      "Число букв в слове нечетное, поэтому на экран выводится центральная буква:\n",
      "t\n",
      "\n",
      "Конец программы\n"
     ]
    }
   ],
   "source": [
    "# ВВОД ИСХОДНЫХ ДАННЫХ ЧЕРЕЗ КОНСОЛЬ\n",
    "print(\"Введите слово, состоящее из латинских букв\")\n",
    "string = input()\n",
    "\n",
    "#ВЫЧИСЛЕНИЯ\n",
    "print()\n",
    "if (len(string) % 2 == 0):\n",
    "    print(\"Число букв в слове четное, поэтому на экран выводится две буквы из середины:\")\n",
    "    print(string[int(len(string) / 2 - 1)::int(len(string)/ 2)]) \n",
    "else:\n",
    "    print(\"Число букв в слове нечетное, поэтому на экран выводится центральная буква:\")\n",
    "    print(string[int((len(string) - 1) / 2)])\n",
    "\n",
    "print(\"\\nКонец программы\")"
   ]
  },
  {
   "cell_type": "markdown",
   "metadata": {},
   "source": [
    "**Задача 2**. Мы делаем MVP dating-сервиса, и у нас есть список парней и девушек (их число может варьироваться):"
   ]
  },
  {
   "cell_type": "markdown",
   "metadata": {},
   "source": [
    "Выдвигаем гипотезу: лучшие рекомендации мы получим, если просто отсортируем имена по алфавиту и познакомим людей с одинаковыми индексами после сортировки! \"Познакомить\" пары нам поможет функция zip, а в цикле распакуем zip-объект и выведем информацию в виде:\n",
    "\n",
    "Идеальные пары:  \n",
    "Alex и Emma  \n",
    "Arthur и Kate  \n",
    "John и Kira  \n",
    "Peter и Liza  \n",
    "Richard и Trisha  "
   ]
  },
  {
   "cell_type": "markdown",
   "metadata": {},
   "source": [
    "**Внимание! Если количество людей в списках будет не совпадать, то мы никого знакомить не будет и выведем пользователю предупреждение, что кто-то может остаться без пары!**"
   ]
  },
  {
   "cell_type": "code",
   "execution_count": 2,
   "metadata": {},
   "outputs": [
    {
     "name": "stdout",
     "output_type": "stream",
     "text": [
      "Идеальные пары:\n",
      "Alex и Emma\n",
      "Arthur и Kate\n",
      "John и Kira\n",
      "Peter и Liza\n",
      "Richard и Trisha\n"
     ]
    }
   ],
   "source": [
    "#ИСХОДНЫЕ ДАННЫЕ\n",
    "boys = ['Peter', 'Alex', 'John', 'Arthur', 'Richard']\n",
    "girls = ['Kate', 'Liza', 'Kira', 'Emma', 'Trisha']\n",
    "\n",
    "#ПРЕОБРАЗОВАНИЯ и ВЫЧИСЛЕНИЯ\n",
    "if (len(boys) == len(girls)):\n",
    "    boys.sort()\n",
    "    girls.sort() \n",
    "    pairs = zip(boys, girls)\n",
    "    print(\"Идеальные пары:\")\n",
    "    for person in pairs:\n",
    "        print(person[0], \"и\", person[1])  \n",
    "else:\n",
    "    print(\"ВНИМАНИЕ! Каждому пары не хватит. Поэтому знакомить никого не будем!\")"
   ]
  },
  {
   "cell_type": "markdown",
   "metadata": {},
   "source": [
    "**Задача 3**. У нас есть список, содержащий информацию о среднедневной температуре в Фаренгейтах за недельный период по странам.\n",
    "Необходимо написать код, который рассчитает среднюю температуру за неделю в Цельсиях для каждой страны."
   ]
  },
  {
   "cell_type": "code",
   "execution_count": 3,
   "metadata": {},
   "outputs": [],
   "source": [
    "countries_temperature = [\n",
    " ['Thailand', [75.2, 77, 78.8, 73.4, 68, 75.2, 77]],\n",
    " ['Germany', [57.2, 55.4, 59, 59, 53.6, 55.4, 57.2]],\n",
    " ['Russia', [35.6, 37.4, 39.2, 41, 42.8, 39.2, 35.6]],\n",
    " ['Poland', [50, 50, 53.6, 57.2, 55.4, 55.4, 51.8]],\n",
    "]"
   ]
  },
  {
   "cell_type": "code",
   "execution_count": 4,
   "metadata": {},
   "outputs": [
    {
     "name": "stdout",
     "output_type": "stream",
     "text": [
      "СРЕДНЯЯ ТЕМПЕРАТУРА ЗА НЕДЕЛЮ ПО ЦЕЛЬСИЮ:\n",
      "-----------------------------------------\n",
      "РАСЧЕТ С ЦИКЛОМ FOR:\n",
      "Thailand :  23.9\n",
      "Germany :  13.7\n",
      "Russia :  3.7\n",
      "Poland :  11.9\n",
      "-----------------------------------------\n",
      "РАСЧЕТ БЕЗ ЦИКЛА:\n",
      "Тайланд:  23.9\n",
      "Германия:  13.7\n",
      "Россия:  3.7\n",
      "Польша:  11.9\n",
      "\n",
      "Конец программы\n"
     ]
    }
   ],
   "source": [
    "print(\"СРЕДНЯЯ ТЕМПЕРАТУРА ЗА НЕДЕЛЮ ПО ЦЕЛЬСИЮ:\")\n",
    "print(\"-----------------------------------------\")\n",
    "\n",
    "print(\"РАСЧЕТ С ЦИКЛОМ FOR:\")\n",
    "for temperature in countries_temperature:\n",
    "    print(temperature[0],\": \", round(5/9 * (sum(temperature[1]) / len(temperature[1]) - 32), 1))\n",
    "print(\"-----------------------------------------\")\n",
    " \n",
    "print(\"РАСЧЕТ БЕЗ ЦИКЛА:\")\n",
    "Thailand_temperature = round(5/9 * (sum(countries_temperature[0][1]) / len(countries_temperature[0][1]) - 32), 1)\n",
    "Germany_temperature = round(5/9 * (sum(countries_temperature[1][1]) / len(countries_temperature[1][1]) - 32), 1)\n",
    "Russia_temperature =  round(5/9 * (sum(countries_temperature[2][1]) / len(countries_temperature[2][1]) - 32), 1)\n",
    "Poland_temperature = round(5/9 * (sum(countries_temperature[3][1]) / len(countries_temperature[3][1]) - 32), 1)\n",
    "\n",
    "print(\"Тайланд: \" , Thailand_temperature)\n",
    "print(\"Германия: \" , Germany_temperature)\n",
    "print(\"Россия: \" , Russia_temperature)\n",
    "print(\"Польша: \" , Poland_temperature)\n",
    "\n",
    "print(\"\\nКонец программы\")\n"
   ]
  },
  {
   "cell_type": "markdown",
   "metadata": {},
   "source": [
    "**Задача 4.** Дан поток логов по количеству просмотренных страниц для каждого пользователя. Список отсортирован по ID пользователя. Вам необходимо написать алгоритм, который считает среднее значение просмотров на пользователя. \n",
    "Т. е. надо посчитать отношение суммы всех просмотров к количеству уникальных пользователей."
   ]
  },
  {
   "cell_type": "code",
   "execution_count": 7,
   "metadata": {},
   "outputs": [
    {
     "name": "stdout",
     "output_type": "stream",
     "text": [
      "Среднее количество просмотров одним пользователем = 23\n",
      "\n",
      "Конец программы\n"
     ]
    }
   ],
   "source": [
    "stream = [\n",
    "    '2018-01-01,user1,3',\n",
    "    '2018-01-07,user1,4',\n",
    "    '2018-03-29,user1,1',\n",
    "    '2018-04-04,user1,13',\n",
    "    '2018-01-05,user2,7',\n",
    "    '2018-06-14,user3,4',\n",
    "    '2018-07-02,user3,10',\n",
    "    '2018-03-21,user4,19',\n",
    "    '2018-03-22,user4,4',\n",
    "    '2018-04-22,user4,8',\n",
    "    '2018-05-03,user4,9',\n",
    "    '2018-05-11,user4,11',\n",
    "]\n",
    "\n",
    "#ПРЕОБРАЗОВАНИЯ И РЕШЕНИЕ\n",
    "string = ' '.join(stream)  #преобразование списка в строку\n",
    "string = string.replace(\",\",\" \") #замена в строке всех запятых пробелами\n",
    "stream_new = string.split(\" \") #формирование нового списка из строки \n",
    "\n",
    "views = stream_new[2:37:3] #список только из просмотров\n",
    "views_new = list(map(int, views)) #изменение типа данных списка на int вместо str\n",
    "\n",
    "sum = 0\n",
    "for i in views_new:\n",
    "    sum = sum + i #сумма всх просмотров\n",
    "\n",
    "users = stream_new[1:37:3]  #новый список из всех пользователей \n",
    "users_unique = set(users) #множество из уникальных пользователей\n",
    "\n",
    "print(\"Среднее количество просмотров одним пользователем =\", round(sum /len(users_unique)))\n",
    "print(\"\\nКонец программы\")"
   ]
  },
  {
   "cell_type": "markdown",
   "metadata": {},
   "source": [
    "**Задача 5**. Дана статистика рекламных кампаний по дням. Напишите алгоритм, который по паре дата-кампания ищет значение численного столбца. \n",
    "Т. е. для даты '2018-01-01' и 'google' нужно получить число 25. \n",
    "Считайте, что все комбинации дата-кампания уникальны."
   ]
  },
  {
   "cell_type": "code",
   "execution_count": 13,
   "metadata": {},
   "outputs": [
    {
     "name": "stdout",
     "output_type": "stream",
     "text": [
      "25\n",
      "65\n",
      "89\n",
      "574\n",
      "249\n",
      "994\n",
      "1843\n",
      "1327\n",
      "1764\n"
     ]
    }
   ],
   "source": [
    "stats = [\n",
    "    ['2018-01-01', 'google', 25],\n",
    "    ['2018-01-01', 'yandex', 65],\n",
    "    ['2018-01-01', 'market', 89],\n",
    "    ['2018-01-02', 'google', 574],\n",
    "    ['2018-01-02', 'yandex', 249],\n",
    "    ['2018-01-02', 'market', 994],\n",
    "    ['2018-01-03', 'google', 1843],\n",
    "    ['2018-01-03', 'yandex', 1327],\n",
    "    ['2018-01-03', 'market', 1764],\n",
    "]\n",
    "for number in stats:\n",
    "    print(number[2])"
   ]
  },
  {
   "cell_type": "markdown",
   "metadata": {},
   "source": [
    "**Задача 6**. Дан список вида:"
   ]
  },
  {
   "cell_type": "code",
   "execution_count": 9,
   "metadata": {},
   "outputs": [],
   "source": [
    "data = [\n",
    "    [13, 25, 23, 34],\n",
    "    [45, 32, 44, 47],\n",
    "    [12, 33, 23, 95],\n",
    "    [13, 53, 34, 35]\n",
    "]"
   ]
  },
  {
   "cell_type": "markdown",
   "metadata": {},
   "source": [
    "Напишите функцию, которая возвращает сумму элементов на диагонали. Т. е. 13+32+23+35.  \n",
    "Список может быть любой длины, но всегда является \"квадратным\" (количество элементов во вложенных списках равно их количеству)."
   ]
  },
  {
   "cell_type": "code",
   "execution_count": 10,
   "metadata": {},
   "outputs": [
    {
     "name": "stdout",
     "output_type": "stream",
     "text": [
      "Сумма элементов диагонали = 103\n"
     ]
    }
   ],
   "source": [
    "#РЕШЕНИЕ\n",
    "\n",
    "sum = 0\n",
    "\n",
    "if (len(data[0]) == len(data)):\n",
    "    for i in range(len(data)):\n",
    "        sum = sum + data[i][i]\n",
    "    print(\"Сумма элементов диагонали =\", sum)\n",
    "else:\n",
    "    print(\"Матрица не квадратная, поэтому сумму не считаем.\")\n",
    " \n"
   ]
  },
  {
   "cell_type": "code",
   "execution_count": null,
   "metadata": {},
   "outputs": [],
   "source": []
  }
 ],
 "metadata": {
  "kernelspec": {
   "display_name": "Python 3",
   "language": "python",
   "name": "python3"
  },
  "language_info": {
   "codemirror_mode": {
    "name": "ipython",
    "version": 3
   },
   "file_extension": ".py",
   "mimetype": "text/x-python",
   "name": "python",
   "nbconvert_exporter": "python",
   "pygments_lexer": "ipython3",
   "version": "3.7.4"
  }
 },
 "nbformat": 4,
 "nbformat_minor": 2
}
