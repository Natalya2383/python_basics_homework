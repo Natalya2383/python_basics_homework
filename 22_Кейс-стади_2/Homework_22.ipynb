{
 "cells": [
  {
   "cell_type": "markdown",
   "metadata": {},
   "source": [
    "## КЕЙС-СТАДИ, ЧАСТЬ 2\n",
    "## Домашняя работа"
   ]
  },
  {
   "cell_type": "code",
   "execution_count": 1,
   "metadata": {},
   "outputs": [
    {
     "data": {
      "text/html": [
       "<div>\n",
       "<style scoped>\n",
       "    .dataframe tbody tr th:only-of-type {\n",
       "        vertical-align: middle;\n",
       "    }\n",
       "\n",
       "    .dataframe tbody tr th {\n",
       "        vertical-align: top;\n",
       "    }\n",
       "\n",
       "    .dataframe thead th {\n",
       "        text-align: right;\n",
       "    }\n",
       "</style>\n",
       "<table border=\"1\" class=\"dataframe\">\n",
       "  <thead>\n",
       "    <tr style=\"text-align: right;\">\n",
       "      <th></th>\n",
       "      <th>id</th>\n",
       "      <th>age</th>\n",
       "      <th>gender</th>\n",
       "      <th>height</th>\n",
       "      <th>weight</th>\n",
       "      <th>ap_hi</th>\n",
       "      <th>ap_lo</th>\n",
       "      <th>cholesterol</th>\n",
       "      <th>gluc</th>\n",
       "      <th>smoke</th>\n",
       "      <th>alco</th>\n",
       "      <th>active</th>\n",
       "      <th>cardio</th>\n",
       "    </tr>\n",
       "  </thead>\n",
       "  <tbody>\n",
       "    <tr>\n",
       "      <td>0</td>\n",
       "      <td>0</td>\n",
       "      <td>18393</td>\n",
       "      <td>2</td>\n",
       "      <td>168</td>\n",
       "      <td>62.0</td>\n",
       "      <td>110</td>\n",
       "      <td>80</td>\n",
       "      <td>1</td>\n",
       "      <td>1</td>\n",
       "      <td>0</td>\n",
       "      <td>0</td>\n",
       "      <td>1</td>\n",
       "      <td>0</td>\n",
       "    </tr>\n",
       "    <tr>\n",
       "      <td>1</td>\n",
       "      <td>1</td>\n",
       "      <td>20228</td>\n",
       "      <td>1</td>\n",
       "      <td>156</td>\n",
       "      <td>85.0</td>\n",
       "      <td>140</td>\n",
       "      <td>90</td>\n",
       "      <td>3</td>\n",
       "      <td>1</td>\n",
       "      <td>0</td>\n",
       "      <td>0</td>\n",
       "      <td>1</td>\n",
       "      <td>1</td>\n",
       "    </tr>\n",
       "    <tr>\n",
       "      <td>2</td>\n",
       "      <td>2</td>\n",
       "      <td>18857</td>\n",
       "      <td>1</td>\n",
       "      <td>165</td>\n",
       "      <td>64.0</td>\n",
       "      <td>130</td>\n",
       "      <td>70</td>\n",
       "      <td>3</td>\n",
       "      <td>1</td>\n",
       "      <td>0</td>\n",
       "      <td>0</td>\n",
       "      <td>0</td>\n",
       "      <td>1</td>\n",
       "    </tr>\n",
       "    <tr>\n",
       "      <td>3</td>\n",
       "      <td>3</td>\n",
       "      <td>17623</td>\n",
       "      <td>2</td>\n",
       "      <td>169</td>\n",
       "      <td>82.0</td>\n",
       "      <td>150</td>\n",
       "      <td>100</td>\n",
       "      <td>1</td>\n",
       "      <td>1</td>\n",
       "      <td>0</td>\n",
       "      <td>0</td>\n",
       "      <td>1</td>\n",
       "      <td>1</td>\n",
       "    </tr>\n",
       "    <tr>\n",
       "      <td>4</td>\n",
       "      <td>4</td>\n",
       "      <td>17474</td>\n",
       "      <td>1</td>\n",
       "      <td>156</td>\n",
       "      <td>56.0</td>\n",
       "      <td>100</td>\n",
       "      <td>60</td>\n",
       "      <td>1</td>\n",
       "      <td>1</td>\n",
       "      <td>0</td>\n",
       "      <td>0</td>\n",
       "      <td>0</td>\n",
       "      <td>0</td>\n",
       "    </tr>\n",
       "  </tbody>\n",
       "</table>\n",
       "</div>"
      ],
      "text/plain": [
       "   id    age  gender  height  weight  ap_hi  ap_lo  cholesterol  gluc  smoke  \\\n",
       "0   0  18393       2     168    62.0    110     80            1     1      0   \n",
       "1   1  20228       1     156    85.0    140     90            3     1      0   \n",
       "2   2  18857       1     165    64.0    130     70            3     1      0   \n",
       "3   3  17623       2     169    82.0    150    100            1     1      0   \n",
       "4   4  17474       1     156    56.0    100     60            1     1      0   \n",
       "\n",
       "   alco  active  cardio  \n",
       "0     0       1       0  \n",
       "1     0       1       1  \n",
       "2     0       0       1  \n",
       "3     0       1       1  \n",
       "4     0       0       0  "
      ]
     },
     "execution_count": 1,
     "metadata": {},
     "output_type": "execute_result"
    }
   ],
   "source": [
    "import numpy as np\n",
    "import io\n",
    "import requests\n",
    "import ssl\n",
    "import pandas as pd\n",
    "import matplotlib.pyplot as plt\n",
    "import seaborn as sns\n",
    "import researchpy as rp\n",
    "\n",
    "from sklearn.ensemble import RandomForestClassifier\n",
    "from sklearn import preprocessing\n",
    "from sklearn.metrics import classification_report\n",
    "\n",
    "# следующая строчка подключает сертификат для защищенного соединения\n",
    "ssl._create_default_https_context = ssl._create_unverified_context\n",
    "url=\"http://yustiks.ru/dataset/cardio_train.csv\"\n",
    "data = pd.read_csv(url,sep=\";\")\n",
    "data.head()"
   ]
  },
  {
   "cell_type": "markdown",
   "metadata": {},
   "source": [
    "## 1. Написать модель Random Forest на датасет больных сердечными болезнями (можно почистить от выбросов)."
   ]
  },
  {
   "cell_type": "code",
   "execution_count": 2,
   "metadata": {},
   "outputs": [
    {
     "name": "stdout",
     "output_type": "stream",
     "text": [
      "gender         45529\n",
      "cholesterol    18814\n",
      "gluc            3573\n",
      "active          1228\n",
      "smoke            457\n",
      "cardio           174\n",
      "alco             127\n",
      "id                97\n",
      "ap_hi              1\n",
      "dtype: int64\n"
     ]
    }
   ],
   "source": [
    "output_y = data.iloc[:,:13]\n",
    "input_x = data\n",
    "\n",
    "# Таргет значение представим ввиде наименований классов\n",
    "from sklearn.preprocessing import LabelEncoder\n",
    "le=LabelEncoder()\n",
    "targets=(output_y.iloc[:,:]==1).idxmax(1)\n",
    "print(targets.value_counts())\n",
    "Y=le.fit_transform(targets)"
   ]
  },
  {
   "cell_type": "code",
   "execution_count": 3,
   "metadata": {},
   "outputs": [],
   "source": [
    "# Выделим из датасета тренировочные и тестовые данные. Тренировочные данные будем использовать для обучения модели. \n",
    "#Тестовые данные будем использовать для подсчета качества модели.\n",
    "from sklearn.model_selection import train_test_split\n",
    "X_train, X_test, y_train, y_test = train_test_split(input_x, Y, test_size=0.3)"
   ]
  },
  {
   "cell_type": "code",
   "execution_count": 4,
   "metadata": {},
   "outputs": [
    {
     "data": {
      "text/plain": [
       "RandomForestClassifier()"
      ]
     },
     "execution_count": 4,
     "metadata": {},
     "output_type": "execute_result"
    }
   ],
   "source": [
    "from sklearn.ensemble import RandomForestClassifier\n",
    "\n",
    "# создаем модель деревья решений\n",
    "# выбираем 100 деревьев в качестве параметра\n",
    "model=RandomForestClassifier(n_estimators=100)\n",
    "\n",
    "# обучаем модель\n",
    "model.fit(X_train,y_train)"
   ]
  },
  {
   "cell_type": "code",
   "execution_count": 5,
   "metadata": {},
   "outputs": [
    {
     "name": "stdout",
     "output_type": "stream",
     "text": [
      "              precision    recall  f1-score   support\n",
      "\n",
      "           0       1.00      1.00      1.00       330\n",
      "           1       1.00      1.00      1.00        37\n",
      "           3       1.00      1.00      1.00        54\n",
      "           4       1.00      1.00      1.00      5705\n",
      "           5       1.00      1.00      1.00     13649\n",
      "           6       1.00      1.00      1.00      1071\n",
      "           7       1.00      1.00      1.00        30\n",
      "           8       1.00      1.00      1.00       124\n",
      "\n",
      "    accuracy                           1.00     21000\n",
      "   macro avg       1.00      1.00      1.00     21000\n",
      "weighted avg       1.00      1.00      1.00     21000\n",
      "\n"
     ]
    },
    {
     "data": {
      "text/plain": [
       "1.0"
      ]
     },
     "execution_count": 5,
     "metadata": {},
     "output_type": "execute_result"
    }
   ],
   "source": [
    "model_pred = model.predict(X_test)\n",
    "print(classification_report(y_test, model_pred))\n",
    "model.score(X_test, y_test)"
   ]
  },
  {
   "cell_type": "markdown",
   "metadata": {},
   "source": [
    "## 2. Сделать вывод о том, какой атрибут оказывает значительное влияение на наличие или отсутствие болезни.\n",
    "Основная задача: определить, что влияет на сердечную болезнь больше всего. Например, выдвигая гипотезу о том, что тот кто курит, болеет чаще, мы сравниваем курящих пациентов с некурящими, и определяя насколько статистически значимы выборки, делаем вывод, что одна выборка статистически отличима от другой (или неотличима). Выдвигаем гипотезу на самый важный атрибут, полученный из feature_importance (Random_Forest). И оцениваем гипотезу. И делаем вывод."
   ]
  },
  {
   "cell_type": "code",
   "execution_count": 6,
   "metadata": {},
   "outputs": [
    {
     "name": "stderr",
     "output_type": "stream",
     "text": [
      "No handles with labels found to put in legend.\n"
     ]
    },
    {
     "data": {
      "image/png": "[encoded data removed]",
      "text/plain": [
       "<Figure size 432x432 with 1 Axes>"
      ]
     },
     "metadata": {
      "needs_background": "light"
     },
     "output_type": "display_data"
    }
   ],
   "source": [
    "# Наиболее важные атрибуты для модели Random Forest\n",
    "headers = list(X_train.columns.values)\n",
    "\n",
    "feature_imp = pd.Series(model.feature_importances_,index=headers).sort_values(ascending=False)\n",
    "\n",
    "f, ax = plt.subplots(figsize=(6, 6))\n",
    "sns.barplot(x=feature_imp, y=feature_imp.index)\n",
    "\n",
    "plt.xlabel('Важность атрибутов')\n",
    "plt.ylabel('Атрибуты')\n",
    "plt.title(\"Наиболее важные атрибуты\")\n",
    "plt.legend()\n",
    "plt.show()"
   ]
  },
  {
   "cell_type": "markdown",
   "metadata": {},
   "source": [
    "Вывод: gender - атрибут данных, оказывающий наиболее значительное влияение на наличие или отсутствие болезни."
   ]
  },
  {
   "cell_type": "markdown",
   "metadata": {},
   "source": [
    "### Гипотеза 1: женщины болеют чаще, чем мужчины"
   ]
  },
  {
   "cell_type": "code",
   "execution_count": 7,
   "metadata": {},
   "outputs": [
    {
     "name": "stdout",
     "output_type": "stream",
     "text": [
      "   Variable        N      Mean        SD        SE  95% Conf.  Interval\n",
      "0    cardio  45530.0  0.496727  0.499995  0.002343   0.492135  0.501320\n",
      "1    cardio  24470.0  0.505231  0.499983  0.003196   0.498966  0.511496\n",
      "2  combined  70000.0  0.499700  0.500003  0.001890   0.495996  0.503404\n",
      "_______________________________________\n",
      "                Independent t-test     results\n",
      "0  Difference (cardio - cardio) =      -0.0085\n",
      "1            Degrees of freedom =   69998.0000\n",
      "2                             t =      -2.1456\n",
      "3         Two side test p value =       0.0319\n",
      "4        Difference < 0 p value =       0.0160\n",
      "5        Difference > 0 p value =       0.9840\n",
      "6                     Cohen's d =      -0.0170\n",
      "7                     Hedge's g =      -0.0170\n",
      "8                 Glass's delta =      -0.0170\n",
      "9                             r =       0.0081\n"
     ]
    }
   ],
   "source": [
    "female = data[data['gender']==1].cardio\n",
    "male = data[data['gender']==2].cardio\n",
    "\n",
    "descriptives, results = rp.ttest(female, male)\n",
    "\n",
    "print(descriptives)\n",
    "print('_______________________________________')\n",
    "print(results)"
   ]
  },
  {
   "cell_type": "markdown",
   "metadata": {},
   "source": [
    "##### Вывод: гипотеза не верна - женшины болеют реже чем мужчины (поскольку среднее значение для женщин меньше, чем среднее значение для мужчин).\n",
    "\n"
   ]
  },
  {
   "cell_type": "markdown",
   "metadata": {},
   "source": [
    "### Гипотеза 2: люди с показателем cholesterol = 2 болеют чаще"
   ]
  },
  {
   "cell_type": "code",
   "execution_count": 8,
   "metadata": {},
   "outputs": [
    {
     "name": "stdout",
     "output_type": "stream",
     "text": [
      "   Variable        N      Mean        SD        SE  95% Conf.  Interval\n",
      "0    cardio   9549.0  0.602157  0.489478  0.005009   0.592339  0.611976\n",
      "1    cardio  60451.0  0.483516  0.499732  0.002033   0.479532  0.487499\n",
      "2  combined  70000.0  0.499700  0.500003  0.001890   0.495996  0.503404\n",
      "_____________________________\n",
      "                Independent t-test     results\n",
      "0  Difference (cardio - cardio) =       0.1186\n",
      "1            Degrees of freedom =   69998.0000\n",
      "2                             t =      21.6191\n",
      "3         Two side test p value =       0.0000\n",
      "4        Difference < 0 p value =       1.0000\n",
      "5        Difference > 0 p value =       0.0000\n",
      "6                     Cohen's d =       0.2381\n",
      "7                     Hedge's g =       0.2381\n",
      "8                 Glass's delta =       0.2424\n",
      "9                             r =       0.0814\n"
     ]
    }
   ],
   "source": [
    "chol_2 = data[data['cholesterol']==2].cardio\n",
    "chol_all = data[data['cholesterol']!=2].cardio\n",
    "\n",
    "descriptives, results = rp.ttest(chol_2, chol_all)\n",
    "print(descriptives)\n",
    "print('_____________________________')\n",
    "print(results)\n"
   ]
  },
  {
   "cell_type": "markdown",
   "metadata": {},
   "source": [
    "##### Вывод: гипотеза верна - люди с показателем cholesterol = 2 болеют чаще, чем остальные (поскольку среднее значение для них больше, чем у остальных)."
   ]
  },
  {
   "cell_type": "markdown",
   "metadata": {},
   "source": [
    "### Гипотеза 3: люди с показателем height < 165 болеют чаще"
   ]
  },
  {
   "cell_type": "code",
   "execution_count": 9,
   "metadata": {},
   "outputs": [
    {
     "name": "stdout",
     "output_type": "stream",
     "text": [
      "   Variable        N      Mean        SD        SE  95% Conf.  Interval\n",
      "0    cardio  35574.0  0.492691  0.499954  0.002651   0.487496  0.497887\n",
      "1    cardio  34426.0  0.506942  0.499959  0.002695   0.501661  0.512224\n",
      "2  combined  70000.0  0.499700  0.500003  0.001890   0.495996  0.503404\n",
      "_____________________________\n",
      "                Independent t-test     results\n",
      "0  Difference (cardio - cardio) =      -0.0143\n",
      "1            Degrees of freedom =   69998.0000\n",
      "2                             t =      -3.7703\n",
      "3         Two side test p value =       0.0002\n",
      "4        Difference < 0 p value =       0.0001\n",
      "5        Difference > 0 p value =       0.9999\n",
      "6                     Cohen's d =      -0.0285\n",
      "7                     Hedge's g =      -0.0285\n",
      "8                 Glass's delta =      -0.0285\n",
      "9                             r =       0.0142\n"
     ]
    }
   ],
   "source": [
    "height_over165 = data[data['height'] >= 165].cardio\n",
    "height_all = data[data['height'] < 165].cardio\n",
    "\n",
    "descriptives, results = rp.ttest(height_over165, height_all)\n",
    "print(descriptives)\n",
    "print('_____________________________')\n",
    "print(results)"
   ]
  },
  {
   "cell_type": "markdown",
   "metadata": {},
   "source": [
    "##### Вывод: гипотеза верна - люди с показателем height < 165  болеют чаще, чем остальные (поскольку среднее значение для них больше, чем у остальных)."
   ]
  },
  {
   "cell_type": "markdown",
   "metadata": {},
   "source": [
    "### Гипотеза 4: люди с показателем gluc отличным от 1 болеют чаще¶"
   ]
  },
  {
   "cell_type": "code",
   "execution_count": 10,
   "metadata": {},
   "outputs": [
    {
     "name": "stdout",
     "output_type": "stream",
     "text": [
      "   Variable        N      Mean        SD        SE  95% Conf.  Interval\n",
      "0    cardio  59479.0  0.480590  0.499627  0.002049   0.476574  0.484605\n",
      "1    cardio  10521.0  0.607737  0.488278  0.004760   0.598406  0.617068\n",
      "2  combined  70000.0  0.499700  0.500003  0.001890   0.495996  0.503404\n",
      "_____________________________\n",
      "                Independent t-test     results\n",
      "0  Difference (cardio - cardio) =      -0.1271\n",
      "1            Degrees of freedom =   69998.0000\n",
      "2                             t =     -24.1431\n",
      "3         Two side test p value =       0.0000\n",
      "4        Difference < 0 p value =       0.0000\n",
      "5        Difference > 0 p value =       1.0000\n",
      "6                     Cohen's d =      -0.2553\n",
      "7                     Hedge's g =      -0.2553\n",
      "8                 Glass's delta =      -0.2545\n",
      "9                             r =       0.0909\n"
     ]
    }
   ],
   "source": [
    "gluc_1 = data[data['gluc'] == 1].cardio\n",
    "gluc_all = data[data['gluc'] != 1].cardio\n",
    "\n",
    "descriptives, results = rp.ttest(gluc_1, gluc_all)\n",
    "print(descriptives)\n",
    "print('_____________________________')\n",
    "print(results)"
   ]
  },
  {
   "cell_type": "markdown",
   "metadata": {},
   "source": [
    "##### Вывод: гипотеза верна - люди с показателем gluc отличным от 1 болеют чаще, чем остальные (поскольку среднее значение для них больше, чем у остальных)."
   ]
  },
  {
   "cell_type": "code",
   "execution_count": null,
   "metadata": {},
   "outputs": [],
   "source": []
  }
 ],
 "metadata": {
  "kernelspec": {
   "display_name": "Python 3",
   "language": "python",
   "name": "python3"
  },
  "language_info": {
   "codemirror_mode": {
    "name": "ipython",
    "version": 3
   },
   "file_extension": ".py",
   "mimetype": "text/x-python",
   "name": "python",
   "nbconvert_exporter": "python",
   "pygments_lexer": "ipython3",
   "version": "3.7.4"
  }
 },
 "nbformat": 4,
 "nbformat_minor": 2
}
