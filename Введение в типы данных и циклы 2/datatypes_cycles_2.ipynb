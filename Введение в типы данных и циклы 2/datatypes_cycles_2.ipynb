{
 "cells": [
  {
   "cell_type": "markdown",
   "metadata": {},
   "source": [
    "**Задание 1**. Дан список с визитами по городам и странам. \n",
    "Напишите код, который возвращает отфильтрованный список geo_logs, содержащий только визиты из России."
   ]
  },
  {
   "cell_type": "code",
   "execution_count": 248,
   "metadata": {},
   "outputs": [
    {
     "name": "stdout",
     "output_type": "stream",
     "text": [
      "ВИЗИТЫ В РОССИЮ СОДЕРЖАТСЯ В СПИСКЕ:\n",
      "\n",
      "[{'visit1': ['Москва', 'Россия']}, {'visit3': ['Владимир', 'Россия']}, {'visit7': ['Тула', 'Россия']}, {'visit8': ['Тула', 'Россия']}, {'visit9': ['Курск', 'Россия']}, {'visit10': ['Архангельск', 'Россия']}]\n",
      "\n",
      "Конец программы\n"
     ]
    }
   ],
   "source": [
    "geo_logs = [\n",
    "    {'visit1': ['Москва', 'Россия']},\n",
    "    {'visit2': ['Дели', 'Индия']},\n",
    "    {'visit3': ['Владимир', 'Россия']},\n",
    "    {'visit4': ['Лиссабон', 'Португалия']},\n",
    "    {'visit5': ['Париж', 'Франция']},\n",
    "    {'visit6': ['Лиссабон', 'Португалия']},\n",
    "    {'visit7': ['Тула', 'Россия']},\n",
    "    {'visit8': ['Тула', 'Россия']},\n",
    "    {'visit9': ['Курск', 'Россия']},\n",
    "    {'visit10': ['Архангельск', 'Россия']}\n",
    "]\n",
    "\n",
    "#РЕШЕНИЕ\n",
    "Russia = \"Россия\"\n",
    "filtered_geo_logs =[]\n",
    "\n",
    "for i in range(len(geo_logs)):\n",
    "    if ((list((geo_logs[i]).values()))[0])[1] == Russia:\n",
    "        filtered_geo_logs.append(geo_logs[i])\n",
    "    \n",
    "print(\"ВИЗИТЫ В РОССИЮ СОДЕРЖАТСЯ В СПИСКЕ:\\n\")\n",
    "print(filtered_geo_logs)\n",
    "print(\"\\nКонец программы\")\n",
    "    \n"
   ]
  },
  {
   "cell_type": "markdown",
   "metadata": {},
   "source": [
    "**Задание 2**. Выведите на экран все уникальные гео-ID из значений словаря ids. Т. е. список вида [213, 15, 54, 119, 98, 35]"
   ]
  },
  {
   "cell_type": "code",
   "execution_count": 251,
   "metadata": {},
   "outputs": [
    {
     "name": "stdout",
     "output_type": "stream",
     "text": [
      "УНИКАЛЬНЫЕ гео-ID:\n",
      "[98, 35, 15, 213, 54, 119]\n",
      "\n",
      "Конец программы\n"
     ]
    }
   ],
   "source": [
    "ids = {'user1': [213, 213, 213, 15, 213], \n",
    "       'user2': [54, 54, 119, 119, 119], \n",
    "       'user3': [213, 98, 98, 35]}\n",
    "\n",
    "#РЕШЕНИЕ\n",
    "ids_list = list(ids.values()) #все значения из словаря сформированы в список списков\n",
    "ids_list_new = sum(ids_list,[]) #список списков преобразован в список\n",
    "\n",
    "ids_list_new = set(ids_list_new) #cписок преобразован в множество\n",
    "print(\"УНИКАЛЬНЫЕ гео-ID:\")\n",
    "print(list(ids_list_new)) #множество преобразовано обратно в список с уникальными гео-ID \n",
    "\n",
    "print(\"\\nКонец программы\")"
   ]
  },
  {
   "cell_type": "markdown",
   "metadata": {},
   "source": [
    "**Задание 3**. Дан список поисковых запросов. Получить распределение количества слов в них. \n",
    "Т. е. поисковых запросов из одного - слова 5%, из двух - 7%, из трех - 3% и т.д."
   ]
  },
  {
   "cell_type": "code",
   "execution_count": 252,
   "metadata": {},
   "outputs": [
    {
     "name": "stdout",
     "output_type": "stream",
     "text": [
      "РАСПРЕДЕЛЕНИЕ СЛОВ В ПОИСКОВЫХ ЗАПРОСАХ:\n",
      "----------------------------------------\n",
      "Поисковых запросов из 2 слов: 43 %.\n",
      "Поисковых запросов из 3 слов: 57 %.\n",
      "\n",
      "Конец программы\n"
     ]
    }
   ],
   "source": [
    "queries = [\n",
    "    'смотреть сериалы онлайн',\n",
    "    'новости спорта',\n",
    "    'афиша кино',\n",
    "    'курс доллара',\n",
    "    'сериалы этим летом',\n",
    "    'курс по питону',\n",
    "    'сериалы про спорт',\n",
    "]\n",
    "\n",
    "#РЕШЕНИЕ\n",
    "queries_number = []\n",
    "\n",
    "for i in range(len(queries)):\n",
    "    queries_number.append(len(queries[i].split()))\n",
    "\n",
    "queries_number_new = list(set(queries_number)) #создание множества из нового списка, а потом перевод его обратно в список\n",
    "\n",
    "print(\"РАСПРЕДЕЛЕНИЕ СЛОВ В ПОИСКОВЫХ ЗАПРОСАХ:\")\n",
    "print(\"----------------------------------------\")\n",
    "for j in range(len(queries_number_new)):\n",
    "    share = round(queries_number.count(queries_number_new[j]) * 100 / len(queries_number))\n",
    "    print(f\"Поисковых запросов из {queries_number_new[j]} слов: {share} %.\")\n",
    "\n",
    "print(\"\\nКонец программы\")                     \n"
   ]
  },
  {
   "cell_type": "markdown",
   "metadata": {},
   "source": [
    "**Задание 4**. Дана статистика рекламных каналов по объемам продаж. Напишите скрипт, который возвращает название канала с максимальным объемом.\n",
    "Т. е. в данном примере скрипт должен возвращать 'yandex'."
   ]
  },
  {
   "cell_type": "code",
   "execution_count": 253,
   "metadata": {},
   "outputs": [
    {
     "name": "stdout",
     "output_type": "stream",
     "text": [
      "КАНАЛ С МАКСИМАЛЬНЫМ ОБЪЕМОМ ПРОДАЖ: yandex\n",
      "\n",
      "Конец программы\n"
     ]
    }
   ],
   "source": [
    "stats = {'facebook': 55, 'yandex': 120, 'vk': 115, 'google': 99, 'email': 42, 'ok': 98}\n",
    "\n",
    "#РЕШЕНИЕ\n",
    "sorted_status = sorted(stats, key=stats.get, reverse=True)\n",
    "\n",
    "print(\"КАНАЛ С МАКСИМАЛЬНЫМ ОБЪЕМОМ ПРОДАЖ:\", sorted_status[0])\n",
    "print(\"\\nКонец программы\")"
   ]
  },
  {
   "cell_type": "markdown",
   "metadata": {},
   "source": [
    "**Задание 5**. Напишите код для преобразования произвольного списка вида ['2018-01-01', 'yandex', 'cpc', 100] (он может быть любой длины) в словарь {'2018-01-01': {'yandex': {'cpc': 100}}}"
   ]
  },
  {
   "cell_type": "code",
   "execution_count": 254,
   "metadata": {},
   "outputs": [
    {
     "name": "stdout",
     "output_type": "stream",
     "text": [
      "СПИСОК ПРЕОБРАЗОВАН В СЛОВАРЬ:\n",
      "{'2018-01-01': {'yandex': {'cpc': 100}}}\n",
      "\n",
      "Конец программы\n"
     ]
    }
   ],
   "source": [
    "sequence = ['2018-01-01', 'yandex', 'cpc', 100]\n",
    "\n",
    "#РЕШЕНИЕ\n",
    "d = {sequence[len(sequence) - 2]:sequence[len(sequence) - 1]} #создание первого базового словаря\n",
    "\n",
    "new_range = range(len(sequence) - 2)\n",
    "\n",
    "print(\"СПИСОК ПРЕОБРАЗОВАН В СЛОВАРЬ:\")\n",
    "for i in reversed(new_range):\n",
    "    d = {sequence[i]: d}\n",
    "print(d)\n",
    "\n",
    "print(\"\\nКонец программы\")"
   ]
  },
  {
   "cell_type": "code",
   "execution_count": null,
   "metadata": {},
   "outputs": [],
   "source": []
  }
 ],
 "metadata": {
  "kernelspec": {
   "display_name": "Python 3",
   "language": "python",
   "name": "python3"
  },
  "language_info": {
   "codemirror_mode": {
    "name": "ipython",
    "version": 3
   },
   "file_extension": ".py",
   "mimetype": "text/x-python",
   "name": "python",
   "nbconvert_exporter": "python",
   "pygments_lexer": "ipython3",
   "version": "3.7.4"
  }
 },
 "nbformat": 4,
 "nbformat_minor": 2
}
