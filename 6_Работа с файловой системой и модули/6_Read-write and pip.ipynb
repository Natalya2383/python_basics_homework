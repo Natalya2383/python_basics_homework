{
 "cells": [
  {
   "cell_type": "markdown",
   "metadata": {},
   "source": [
    "Домашнее задание\n",
    "\n",
    "1.Переведите содержимое файла purchase_log.txt в словарь purchases вида:\n",
    "{'1840e0b9d4': 'Продукты', ...}\n",
    "\n",
    "\n",
    "2.Для каждого user_id в файле visit_log.csv добавьте третий столбец с категорией покупки (если покупка была).\n",
    "\n",
    "\n",
    "3.Запишите в файл funnel.csv визиты из файла visit_log.csv, в которых были покупки с указанием категории.\n",
    "\n",
    "\n",
    "Учтите условия на данные:\n",
    "•содержимое purchase_log.txt помещается в оперативную память компьютера\n",
    "•содержимое visit_log.csv - нет; используйте только построчную обработку этого файла\n"
   ]
  },
  {
   "cell_type": "code",
   "execution_count": 1,
   "metadata": {},
   "outputs": [],
   "source": [
    "import json\n",
    "purchases = {}\n",
    "\n",
    "with open('purchase_log.txt', 'rt', encoding='utf-8') as f:\n",
    "    with open('visit_log.csv', 'r') as f1:\n",
    "        with open('funnel.csv', 'w') as f2write: \n",
    "                  \n",
    "            content = f.readlines()\n",
    "            for line in content:\n",
    "                line = line.strip() \n",
    "                dict_ = json.loads(line) #перевод в словарь       \n",
    "                purchases_list = list(dict_.values()) \n",
    "                purchases_dict = dict([purchases_list]) \n",
    "                purchases.update(purchases_dict) #объединение словаря каждой строки в единый словарь\n",
    "\n",
    "            for line in f1:\n",
    "                line = line.strip().split(',')\n",
    "                for item in line:  #берем каждый элемент из списка\n",
    "                    if item in purchases:  #проверяем каждый элемент списка на присутствие в словаре покупок\n",
    "                        line.append(purchases.get(item))  #если есть совпадения, то до бавляем значение в конец строки визитов\n",
    "                        \n",
    "                        f2write.write(str(line) + '\\n')                                              \n",
    "            "
   ]
  },
  {
   "cell_type": "code",
   "execution_count": null,
   "metadata": {},
   "outputs": [],
   "source": []
  }
 ],
 "metadata": {
  "kernelspec": {
   "display_name": "Python 3",
   "language": "python",
   "name": "python3"
  },
  "language_info": {
   "codemirror_mode": {
    "name": "ipython",
    "version": 3
   },
   "file_extension": ".py",
   "mimetype": "text/x-python",
   "name": "python",
   "nbconvert_exporter": "python",
   "pygments_lexer": "ipython3",
   "version": "3.7.4"
  }
 },
 "nbformat": 4,
 "nbformat_minor": 2
}
