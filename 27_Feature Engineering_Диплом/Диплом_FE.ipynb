{
 "cells": [
  {
   "cell_type": "markdown",
   "metadata": {},
   "source": [
    "## FEATURE ENGINEERING"
   ]
  },
  {
   "cell_type": "markdown",
   "metadata": {},
   "source": [
    "### Дипломная работа"
   ]
  },
  {
   "cell_type": "markdown",
   "metadata": {},
   "source": [
    "### Задание\n",
    " \n",
    "Представлены данные такси, по которым нужно предсказать, возьмёт ли таксист заказ или нет(driver_response).\n",
    "\n",
    "Чек-лист:\n",
    "1. Загрузите датасет taxi.csv.\n",
    "2. Посмотрите на данные. Отобразите общую информацию по признакам (вспомните о describe и info). Напишите в markdown свои наблюдения.\n",
    "3. Выявите пропуски, а также возможные причины их возникновения. Решите, что следует сделать с ними. Напишите в markdown свои наблюдения.\n",
    "4. Оцените зависимости переменных между собой. Используйте корреляции. Будет хорошо, если воспользуетесь profile_report. Напишите в markdown свои наблюдения.\n",
    "5. Определите стратегию преобразования категориальных признаков (т.е. как их сделать адекватными для моделей).\n",
    "6. Найдите признаки, которые можно разделить на другие, или преобразовать в другой тип данных. Удалите лишние, при необходимости.\n",
    "7. Разделите выборку на обучаемую и тестовую.\n",
    "8. Обучите модель. Напишите в markdown свои наблюдения по полученным результатам. Хорошие результаты дают классификаторы RandomForest и XGBoost."
   ]
  },
  {
   "cell_type": "code",
   "execution_count": 1,
   "metadata": {},
   "outputs": [],
   "source": [
    "import numpy as np\n",
    "import pandas as pd\n",
    "import seaborn as sns\n",
    "import matplotlib.pyplot as plt\n",
    "\n",
    "from matplotlib import pyplot as plt\n",
    "from sklearn.linear_model import LinearRegression"
   ]
  },
  {
   "cell_type": "markdown",
   "metadata": {},
   "source": [
    "### I. ПОДГОТОВКА ДАННЫХ ДЛЯ АНАЛИЗА"
   ]
  },
  {
   "cell_type": "markdown",
   "metadata": {},
   "source": [
    "#### 1. Загрузка данных для анализа. "
   ]
  },
  {
   "cell_type": "code",
   "execution_count": 2,
   "metadata": {},
   "outputs": [
    {
     "data": {
      "text/html": [
       "<div>\n",
       "<style scoped>\n",
       "    .dataframe tbody tr th:only-of-type {\n",
       "        vertical-align: middle;\n",
       "    }\n",
       "\n",
       "    .dataframe tbody tr th {\n",
       "        vertical-align: top;\n",
       "    }\n",
       "\n",
       "    .dataframe thead th {\n",
       "        text-align: right;\n",
       "    }\n",
       "</style>\n",
       "<table border=\"1\" class=\"dataframe\">\n",
       "  <thead>\n",
       "    <tr style=\"text-align: right;\">\n",
       "      <th></th>\n",
       "      <th>offer_gk</th>\n",
       "      <th>weekday_key</th>\n",
       "      <th>hour_key</th>\n",
       "      <th>driver_gk</th>\n",
       "      <th>order_gk</th>\n",
       "      <th>driver_latitude</th>\n",
       "      <th>driver_longitude</th>\n",
       "      <th>origin_order_latitude</th>\n",
       "      <th>origin_order_longitude</th>\n",
       "      <th>distance_km</th>\n",
       "      <th>duration_min</th>\n",
       "      <th>offer_class_group</th>\n",
       "      <th>ride_type_desc</th>\n",
       "      <th>driver_response</th>\n",
       "    </tr>\n",
       "  </thead>\n",
       "  <tbody>\n",
       "    <tr>\n",
       "      <td>0</td>\n",
       "      <td>1105373</td>\n",
       "      <td>5</td>\n",
       "      <td>20</td>\n",
       "      <td>6080</td>\n",
       "      <td>174182</td>\n",
       "      <td>55.818842</td>\n",
       "      <td>37.334562</td>\n",
       "      <td>55.814567</td>\n",
       "      <td>37.355010</td>\n",
       "      <td>-1.000</td>\n",
       "      <td>-1.000</td>\n",
       "      <td>Economy</td>\n",
       "      <td>private</td>\n",
       "      <td>0</td>\n",
       "    </tr>\n",
       "    <tr>\n",
       "      <td>1</td>\n",
       "      <td>759733</td>\n",
       "      <td>5</td>\n",
       "      <td>14</td>\n",
       "      <td>6080</td>\n",
       "      <td>358774</td>\n",
       "      <td>55.805342</td>\n",
       "      <td>37.515023</td>\n",
       "      <td>55.819329</td>\n",
       "      <td>37.466398</td>\n",
       "      <td>18.802</td>\n",
       "      <td>25.217</td>\n",
       "      <td>Standard</td>\n",
       "      <td>private</td>\n",
       "      <td>1</td>\n",
       "    </tr>\n",
       "    <tr>\n",
       "      <td>2</td>\n",
       "      <td>416977</td>\n",
       "      <td>6</td>\n",
       "      <td>14</td>\n",
       "      <td>6080</td>\n",
       "      <td>866260</td>\n",
       "      <td>55.813978</td>\n",
       "      <td>37.347688</td>\n",
       "      <td>55.814827</td>\n",
       "      <td>37.354074</td>\n",
       "      <td>6.747</td>\n",
       "      <td>9.800</td>\n",
       "      <td>Economy</td>\n",
       "      <td>private</td>\n",
       "      <td>0</td>\n",
       "    </tr>\n",
       "    <tr>\n",
       "      <td>3</td>\n",
       "      <td>889660</td>\n",
       "      <td>2</td>\n",
       "      <td>6</td>\n",
       "      <td>6080</td>\n",
       "      <td>163522</td>\n",
       "      <td>55.745922</td>\n",
       "      <td>37.421748</td>\n",
       "      <td>55.743469</td>\n",
       "      <td>37.431130</td>\n",
       "      <td>-1.000</td>\n",
       "      <td>-1.000</td>\n",
       "      <td>Economy</td>\n",
       "      <td>private</td>\n",
       "      <td>1</td>\n",
       "    </tr>\n",
       "    <tr>\n",
       "      <td>4</td>\n",
       "      <td>1120055</td>\n",
       "      <td>4</td>\n",
       "      <td>16</td>\n",
       "      <td>6080</td>\n",
       "      <td>506710</td>\n",
       "      <td>55.803578</td>\n",
       "      <td>37.521602</td>\n",
       "      <td>55.812559</td>\n",
       "      <td>37.527407</td>\n",
       "      <td>12.383</td>\n",
       "      <td>19.250</td>\n",
       "      <td>Economy</td>\n",
       "      <td>private</td>\n",
       "      <td>1</td>\n",
       "    </tr>\n",
       "  </tbody>\n",
       "</table>\n",
       "</div>"
      ],
      "text/plain": [
       "   offer_gk  weekday_key  hour_key  driver_gk  order_gk  driver_latitude  \\\n",
       "0   1105373            5        20       6080    174182        55.818842   \n",
       "1    759733            5        14       6080    358774        55.805342   \n",
       "2    416977            6        14       6080    866260        55.813978   \n",
       "3    889660            2         6       6080    163522        55.745922   \n",
       "4   1120055            4        16       6080    506710        55.803578   \n",
       "\n",
       "   driver_longitude  origin_order_latitude  origin_order_longitude  \\\n",
       "0         37.334562              55.814567               37.355010   \n",
       "1         37.515023              55.819329               37.466398   \n",
       "2         37.347688              55.814827               37.354074   \n",
       "3         37.421748              55.743469               37.431130   \n",
       "4         37.521602              55.812559               37.527407   \n",
       "\n",
       "   distance_km  duration_min offer_class_group ride_type_desc  driver_response  \n",
       "0       -1.000        -1.000           Economy        private                0  \n",
       "1       18.802        25.217          Standard        private                1  \n",
       "2        6.747         9.800           Economy        private                0  \n",
       "3       -1.000        -1.000           Economy        private                1  \n",
       "4       12.383        19.250           Economy        private                1  "
      ]
     },
     "execution_count": 2,
     "metadata": {},
     "output_type": "execute_result"
    }
   ],
   "source": [
    "data = pd.read_csv('taxi.csv')\n",
    "data.head()"
   ]
  },
  {
   "cell_type": "code",
   "execution_count": 3,
   "metadata": {},
   "outputs": [
    {
     "data": {
      "text/plain": [
       "driver_gk  driver_response\n",
       "14         0                    8\n",
       "           1                  204\n",
       "22         0                   12\n",
       "           1                   82\n",
       "42         0                   38\n",
       "                             ... \n",
       "6800       1                  161\n",
       "6802       0                  100\n",
       "           1                   40\n",
       "6806       0                   58\n",
       "           1                  204\n",
       "Name: offer_gk, Length: 873, dtype: int64"
      ]
     },
     "execution_count": 3,
     "metadata": {},
     "output_type": "execute_result"
    }
   ],
   "source": [
    "a = data.groupby(['driver_gk', 'driver_response'])['offer_gk'].count()\n",
    "a"
   ]
  },
  {
   "cell_type": "code",
   "execution_count": 4,
   "metadata": {},
   "outputs": [
    {
     "data": {
      "text/html": [
       "<div>\n",
       "<style scoped>\n",
       "    .dataframe tbody tr th:only-of-type {\n",
       "        vertical-align: middle;\n",
       "    }\n",
       "\n",
       "    .dataframe tbody tr th {\n",
       "        vertical-align: top;\n",
       "    }\n",
       "\n",
       "    .dataframe thead th {\n",
       "        text-align: right;\n",
       "    }\n",
       "</style>\n",
       "<table border=\"1\" class=\"dataframe\">\n",
       "  <thead>\n",
       "    <tr style=\"text-align: right;\">\n",
       "      <th></th>\n",
       "      <th>driver_gk</th>\n",
       "      <th>offer_gk</th>\n",
       "      <th>weekday_key</th>\n",
       "      <th>hour_key</th>\n",
       "      <th>order_gk</th>\n",
       "      <th>driver_latitude</th>\n",
       "      <th>driver_longitude</th>\n",
       "      <th>origin_order_latitude</th>\n",
       "      <th>origin_order_longitude</th>\n",
       "      <th>distance_km</th>\n",
       "      <th>duration_min</th>\n",
       "      <th>offer_class_group</th>\n",
       "      <th>ride_type_desc</th>\n",
       "      <th>driver_response</th>\n",
       "    </tr>\n",
       "  </thead>\n",
       "  <tbody>\n",
       "    <tr>\n",
       "      <td>0</td>\n",
       "      <td>14</td>\n",
       "      <td>212</td>\n",
       "      <td>212</td>\n",
       "      <td>212</td>\n",
       "      <td>212</td>\n",
       "      <td>212</td>\n",
       "      <td>212</td>\n",
       "      <td>212</td>\n",
       "      <td>212</td>\n",
       "      <td>212</td>\n",
       "      <td>212</td>\n",
       "      <td>212</td>\n",
       "      <td>212</td>\n",
       "      <td>212</td>\n",
       "    </tr>\n",
       "    <tr>\n",
       "      <td>1</td>\n",
       "      <td>22</td>\n",
       "      <td>94</td>\n",
       "      <td>94</td>\n",
       "      <td>94</td>\n",
       "      <td>94</td>\n",
       "      <td>94</td>\n",
       "      <td>94</td>\n",
       "      <td>94</td>\n",
       "      <td>94</td>\n",
       "      <td>94</td>\n",
       "      <td>94</td>\n",
       "      <td>94</td>\n",
       "      <td>94</td>\n",
       "      <td>94</td>\n",
       "    </tr>\n",
       "    <tr>\n",
       "      <td>2</td>\n",
       "      <td>42</td>\n",
       "      <td>202</td>\n",
       "      <td>202</td>\n",
       "      <td>202</td>\n",
       "      <td>202</td>\n",
       "      <td>202</td>\n",
       "      <td>202</td>\n",
       "      <td>202</td>\n",
       "      <td>202</td>\n",
       "      <td>202</td>\n",
       "      <td>202</td>\n",
       "      <td>202</td>\n",
       "      <td>202</td>\n",
       "      <td>202</td>\n",
       "    </tr>\n",
       "    <tr>\n",
       "      <td>3</td>\n",
       "      <td>51</td>\n",
       "      <td>261</td>\n",
       "      <td>261</td>\n",
       "      <td>261</td>\n",
       "      <td>261</td>\n",
       "      <td>261</td>\n",
       "      <td>261</td>\n",
       "      <td>261</td>\n",
       "      <td>261</td>\n",
       "      <td>261</td>\n",
       "      <td>261</td>\n",
       "      <td>261</td>\n",
       "      <td>261</td>\n",
       "      <td>261</td>\n",
       "    </tr>\n",
       "    <tr>\n",
       "      <td>4</td>\n",
       "      <td>75</td>\n",
       "      <td>222</td>\n",
       "      <td>222</td>\n",
       "      <td>222</td>\n",
       "      <td>222</td>\n",
       "      <td>222</td>\n",
       "      <td>222</td>\n",
       "      <td>222</td>\n",
       "      <td>222</td>\n",
       "      <td>222</td>\n",
       "      <td>222</td>\n",
       "      <td>222</td>\n",
       "      <td>222</td>\n",
       "      <td>222</td>\n",
       "    </tr>\n",
       "    <tr>\n",
       "      <td>...</td>\n",
       "      <td>...</td>\n",
       "      <td>...</td>\n",
       "      <td>...</td>\n",
       "      <td>...</td>\n",
       "      <td>...</td>\n",
       "      <td>...</td>\n",
       "      <td>...</td>\n",
       "      <td>...</td>\n",
       "      <td>...</td>\n",
       "      <td>...</td>\n",
       "      <td>...</td>\n",
       "      <td>...</td>\n",
       "      <td>...</td>\n",
       "      <td>...</td>\n",
       "    </tr>\n",
       "    <tr>\n",
       "      <td>434</td>\n",
       "      <td>6762</td>\n",
       "      <td>1452</td>\n",
       "      <td>1452</td>\n",
       "      <td>1452</td>\n",
       "      <td>1452</td>\n",
       "      <td>1452</td>\n",
       "      <td>1452</td>\n",
       "      <td>1452</td>\n",
       "      <td>1452</td>\n",
       "      <td>1452</td>\n",
       "      <td>1452</td>\n",
       "      <td>1452</td>\n",
       "      <td>1452</td>\n",
       "      <td>1452</td>\n",
       "    </tr>\n",
       "    <tr>\n",
       "      <td>435</td>\n",
       "      <td>6792</td>\n",
       "      <td>746</td>\n",
       "      <td>746</td>\n",
       "      <td>746</td>\n",
       "      <td>746</td>\n",
       "      <td>746</td>\n",
       "      <td>746</td>\n",
       "      <td>746</td>\n",
       "      <td>746</td>\n",
       "      <td>746</td>\n",
       "      <td>746</td>\n",
       "      <td>746</td>\n",
       "      <td>746</td>\n",
       "      <td>746</td>\n",
       "    </tr>\n",
       "    <tr>\n",
       "      <td>436</td>\n",
       "      <td>6800</td>\n",
       "      <td>317</td>\n",
       "      <td>317</td>\n",
       "      <td>317</td>\n",
       "      <td>317</td>\n",
       "      <td>317</td>\n",
       "      <td>317</td>\n",
       "      <td>317</td>\n",
       "      <td>317</td>\n",
       "      <td>317</td>\n",
       "      <td>317</td>\n",
       "      <td>317</td>\n",
       "      <td>317</td>\n",
       "      <td>317</td>\n",
       "    </tr>\n",
       "    <tr>\n",
       "      <td>437</td>\n",
       "      <td>6802</td>\n",
       "      <td>140</td>\n",
       "      <td>140</td>\n",
       "      <td>140</td>\n",
       "      <td>140</td>\n",
       "      <td>140</td>\n",
       "      <td>140</td>\n",
       "      <td>140</td>\n",
       "      <td>140</td>\n",
       "      <td>140</td>\n",
       "      <td>140</td>\n",
       "      <td>140</td>\n",
       "      <td>140</td>\n",
       "      <td>140</td>\n",
       "    </tr>\n",
       "    <tr>\n",
       "      <td>438</td>\n",
       "      <td>6806</td>\n",
       "      <td>262</td>\n",
       "      <td>262</td>\n",
       "      <td>262</td>\n",
       "      <td>262</td>\n",
       "      <td>262</td>\n",
       "      <td>262</td>\n",
       "      <td>262</td>\n",
       "      <td>262</td>\n",
       "      <td>262</td>\n",
       "      <td>262</td>\n",
       "      <td>262</td>\n",
       "      <td>262</td>\n",
       "      <td>262</td>\n",
       "    </tr>\n",
       "  </tbody>\n",
       "</table>\n",
       "<p>439 rows × 14 columns</p>\n",
       "</div>"
      ],
      "text/plain": [
       "     driver_gk  offer_gk  weekday_key  hour_key  order_gk  driver_latitude  \\\n",
       "0           14       212          212       212       212              212   \n",
       "1           22        94           94        94        94               94   \n",
       "2           42       202          202       202       202              202   \n",
       "3           51       261          261       261       261              261   \n",
       "4           75       222          222       222       222              222   \n",
       "..         ...       ...          ...       ...       ...              ...   \n",
       "434       6762      1452         1452      1452      1452             1452   \n",
       "435       6792       746          746       746       746              746   \n",
       "436       6800       317          317       317       317              317   \n",
       "437       6802       140          140       140       140              140   \n",
       "438       6806       262          262       262       262              262   \n",
       "\n",
       "     driver_longitude  origin_order_latitude  origin_order_longitude  \\\n",
       "0                 212                    212                     212   \n",
       "1                  94                     94                      94   \n",
       "2                 202                    202                     202   \n",
       "3                 261                    261                     261   \n",
       "4                 222                    222                     222   \n",
       "..                ...                    ...                     ...   \n",
       "434              1452                   1452                    1452   \n",
       "435               746                    746                     746   \n",
       "436               317                    317                     317   \n",
       "437               140                    140                     140   \n",
       "438               262                    262                     262   \n",
       "\n",
       "     distance_km  duration_min  offer_class_group  ride_type_desc  \\\n",
       "0            212           212                212             212   \n",
       "1             94            94                 94              94   \n",
       "2            202           202                202             202   \n",
       "3            261           261                261             261   \n",
       "4            222           222                222             222   \n",
       "..           ...           ...                ...             ...   \n",
       "434         1452          1452               1452            1452   \n",
       "435          746           746                746             746   \n",
       "436          317           317                317             317   \n",
       "437          140           140                140             140   \n",
       "438          262           262                262             262   \n",
       "\n",
       "     driver_response  \n",
       "0                212  \n",
       "1                 94  \n",
       "2                202  \n",
       "3                261  \n",
       "4                222  \n",
       "..               ...  \n",
       "434             1452  \n",
       "435              746  \n",
       "436              317  \n",
       "437              140  \n",
       "438              262  \n",
       "\n",
       "[439 rows x 14 columns]"
      ]
     },
     "execution_count": 4,
     "metadata": {},
     "output_type": "execute_result"
    }
   ],
   "source": [
    "a = data.groupby('driver_gk').count().reset_index()\n",
    "a"
   ]
  },
  {
   "cell_type": "markdown",
   "metadata": {},
   "source": [
    "#### 2. Отображение общей информации по датасету."
   ]
  },
  {
   "cell_type": "code",
   "execution_count": 5,
   "metadata": {},
   "outputs": [
    {
     "name": "stdout",
     "output_type": "stream",
     "text": [
      "<class 'pandas.core.frame.DataFrame'>\n",
      "RangeIndex: 100000 entries, 0 to 99999\n",
      "Data columns (total 14 columns):\n",
      "offer_gk                  100000 non-null int64\n",
      "weekday_key               100000 non-null int64\n",
      "hour_key                  100000 non-null int64\n",
      "driver_gk                 100000 non-null int64\n",
      "order_gk                  100000 non-null int64\n",
      "driver_latitude           100000 non-null float64\n",
      "driver_longitude          100000 non-null float64\n",
      "origin_order_latitude     100000 non-null float64\n",
      "origin_order_longitude    100000 non-null float64\n",
      "distance_km               100000 non-null float64\n",
      "duration_min              100000 non-null float64\n",
      "offer_class_group         100000 non-null object\n",
      "ride_type_desc            100000 non-null object\n",
      "driver_response           100000 non-null int64\n",
      "dtypes: float64(6), int64(6), object(2)\n",
      "memory usage: 10.7+ MB\n"
     ]
    }
   ],
   "source": [
    "data.info()"
   ]
  },
  {
   "cell_type": "code",
   "execution_count": 6,
   "metadata": {},
   "outputs": [
    {
     "data": {
      "text/html": [
       "<div>\n",
       "<style scoped>\n",
       "    .dataframe tbody tr th:only-of-type {\n",
       "        vertical-align: middle;\n",
       "    }\n",
       "\n",
       "    .dataframe tbody tr th {\n",
       "        vertical-align: top;\n",
       "    }\n",
       "\n",
       "    .dataframe thead th {\n",
       "        text-align: right;\n",
       "    }\n",
       "</style>\n",
       "<table border=\"1\" class=\"dataframe\">\n",
       "  <thead>\n",
       "    <tr style=\"text-align: right;\">\n",
       "      <th></th>\n",
       "      <th>offer_gk</th>\n",
       "      <th>weekday_key</th>\n",
       "      <th>hour_key</th>\n",
       "      <th>driver_gk</th>\n",
       "      <th>order_gk</th>\n",
       "      <th>driver_latitude</th>\n",
       "      <th>driver_longitude</th>\n",
       "      <th>origin_order_latitude</th>\n",
       "      <th>origin_order_longitude</th>\n",
       "      <th>distance_km</th>\n",
       "      <th>duration_min</th>\n",
       "      <th>driver_response</th>\n",
       "    </tr>\n",
       "  </thead>\n",
       "  <tbody>\n",
       "    <tr>\n",
       "      <td>count</td>\n",
       "      <td>1.000000e+05</td>\n",
       "      <td>100000.000000</td>\n",
       "      <td>100000.000000</td>\n",
       "      <td>100000.000000</td>\n",
       "      <td>100000.00000</td>\n",
       "      <td>100000.000000</td>\n",
       "      <td>100000.000000</td>\n",
       "      <td>100000.000000</td>\n",
       "      <td>100000.000000</td>\n",
       "      <td>100000.000000</td>\n",
       "      <td>100000.000000</td>\n",
       "      <td>100000.000000</td>\n",
       "    </tr>\n",
       "    <tr>\n",
       "      <td>mean</td>\n",
       "      <td>5.662189e+05</td>\n",
       "      <td>3.159860</td>\n",
       "      <td>13.827790</td>\n",
       "      <td>3446.376360</td>\n",
       "      <td>460867.01291</td>\n",
       "      <td>55.700824</td>\n",
       "      <td>37.492292</td>\n",
       "      <td>55.772440</td>\n",
       "      <td>37.541637</td>\n",
       "      <td>18.393518</td>\n",
       "      <td>23.134841</td>\n",
       "      <td>0.492480</td>\n",
       "    </tr>\n",
       "    <tr>\n",
       "      <td>std</td>\n",
       "      <td>3.259360e+05</td>\n",
       "      <td>2.054222</td>\n",
       "      <td>7.306496</td>\n",
       "      <td>2038.738677</td>\n",
       "      <td>266064.98953</td>\n",
       "      <td>2.135903</td>\n",
       "      <td>1.454640</td>\n",
       "      <td>0.665985</td>\n",
       "      <td>0.467758</td>\n",
       "      <td>41.129296</td>\n",
       "      <td>33.890105</td>\n",
       "      <td>0.499946</td>\n",
       "    </tr>\n",
       "    <tr>\n",
       "      <td>min</td>\n",
       "      <td>4.000000e+00</td>\n",
       "      <td>0.000000</td>\n",
       "      <td>0.000000</td>\n",
       "      <td>14.000000</td>\n",
       "      <td>18.00000</td>\n",
       "      <td>-1.000000</td>\n",
       "      <td>-1.000000</td>\n",
       "      <td>-1.000000</td>\n",
       "      <td>-1.000000</td>\n",
       "      <td>-1.000000</td>\n",
       "      <td>-1.000000</td>\n",
       "      <td>0.000000</td>\n",
       "    </tr>\n",
       "    <tr>\n",
       "      <td>25%</td>\n",
       "      <td>2.855552e+05</td>\n",
       "      <td>1.000000</td>\n",
       "      <td>8.000000</td>\n",
       "      <td>1421.000000</td>\n",
       "      <td>229178.50000</td>\n",
       "      <td>55.708651</td>\n",
       "      <td>37.413497</td>\n",
       "      <td>55.708032</td>\n",
       "      <td>37.407117</td>\n",
       "      <td>-1.000000</td>\n",
       "      <td>-1.000000</td>\n",
       "      <td>0.000000</td>\n",
       "    </tr>\n",
       "    <tr>\n",
       "      <td>50%</td>\n",
       "      <td>5.656715e+05</td>\n",
       "      <td>3.000000</td>\n",
       "      <td>16.000000</td>\n",
       "      <td>3506.500000</td>\n",
       "      <td>462420.00000</td>\n",
       "      <td>55.772904</td>\n",
       "      <td>37.533664</td>\n",
       "      <td>55.772561</td>\n",
       "      <td>37.532537</td>\n",
       "      <td>10.411500</td>\n",
       "      <td>19.700000</td>\n",
       "      <td>0.000000</td>\n",
       "    </tr>\n",
       "    <tr>\n",
       "      <td>75%</td>\n",
       "      <td>8.487198e+05</td>\n",
       "      <td>5.000000</td>\n",
       "      <td>20.000000</td>\n",
       "      <td>5242.000000</td>\n",
       "      <td>690894.00000</td>\n",
       "      <td>55.960667</td>\n",
       "      <td>37.624113</td>\n",
       "      <td>55.962000</td>\n",
       "      <td>37.624358</td>\n",
       "      <td>30.665250</td>\n",
       "      <td>37.867000</td>\n",
       "      <td>1.000000</td>\n",
       "    </tr>\n",
       "    <tr>\n",
       "      <td>max</td>\n",
       "      <td>1.130355e+06</td>\n",
       "      <td>6.000000</td>\n",
       "      <td>23.000000</td>\n",
       "      <td>6806.000000</td>\n",
       "      <td>920344.00000</td>\n",
       "      <td>56.174097</td>\n",
       "      <td>38.280547</td>\n",
       "      <td>56.311121</td>\n",
       "      <td>38.243608</td>\n",
       "      <td>5234.283000</td>\n",
       "      <td>3958.283000</td>\n",
       "      <td>1.000000</td>\n",
       "    </tr>\n",
       "  </tbody>\n",
       "</table>\n",
       "</div>"
      ],
      "text/plain": [
       "           offer_gk    weekday_key       hour_key      driver_gk  \\\n",
       "count  1.000000e+05  100000.000000  100000.000000  100000.000000   \n",
       "mean   5.662189e+05       3.159860      13.827790    3446.376360   \n",
       "std    3.259360e+05       2.054222       7.306496    2038.738677   \n",
       "min    4.000000e+00       0.000000       0.000000      14.000000   \n",
       "25%    2.855552e+05       1.000000       8.000000    1421.000000   \n",
       "50%    5.656715e+05       3.000000      16.000000    3506.500000   \n",
       "75%    8.487198e+05       5.000000      20.000000    5242.000000   \n",
       "max    1.130355e+06       6.000000      23.000000    6806.000000   \n",
       "\n",
       "           order_gk  driver_latitude  driver_longitude  origin_order_latitude  \\\n",
       "count  100000.00000    100000.000000     100000.000000          100000.000000   \n",
       "mean   460867.01291        55.700824         37.492292              55.772440   \n",
       "std    266064.98953         2.135903          1.454640               0.665985   \n",
       "min        18.00000        -1.000000         -1.000000              -1.000000   \n",
       "25%    229178.50000        55.708651         37.413497              55.708032   \n",
       "50%    462420.00000        55.772904         37.533664              55.772561   \n",
       "75%    690894.00000        55.960667         37.624113              55.962000   \n",
       "max    920344.00000        56.174097         38.280547              56.311121   \n",
       "\n",
       "       origin_order_longitude    distance_km   duration_min  driver_response  \n",
       "count           100000.000000  100000.000000  100000.000000    100000.000000  \n",
       "mean                37.541637      18.393518      23.134841         0.492480  \n",
       "std                  0.467758      41.129296      33.890105         0.499946  \n",
       "min                 -1.000000      -1.000000      -1.000000         0.000000  \n",
       "25%                 37.407117      -1.000000      -1.000000         0.000000  \n",
       "50%                 37.532537      10.411500      19.700000         0.000000  \n",
       "75%                 37.624358      30.665250      37.867000         1.000000  \n",
       "max                 38.243608    5234.283000    3958.283000         1.000000  "
      ]
     },
     "execution_count": 6,
     "metadata": {},
     "output_type": "execute_result"
    }
   ],
   "source": [
    "data.describe()"
   ]
  },
  {
   "cell_type": "markdown",
   "metadata": {},
   "source": [
    "Поскольку пояснений к названию признаков нет, то попытаемся их самостоятельно интерпретировать исходя из соображения здравого смысла. Для этих целей извлечем из датасета некоторые показатели - см. ниже."
   ]
  },
  {
   "cell_type": "code",
   "execution_count": 7,
   "metadata": {},
   "outputs": [
    {
     "data": {
      "text/plain": [
       "100000"
      ]
     },
     "execution_count": 7,
     "metadata": {},
     "output_type": "execute_result"
    }
   ],
   "source": [
    "# Количество уникальных значений 'offer_gk'\n",
    "len(list(data.offer_gk.unique()))"
   ]
  },
  {
   "cell_type": "markdown",
   "metadata": {},
   "source": [
    "Количество уникальных значений 'offer_gk' совпадает с общим количеством значений. Значит этот показатель скорее всего какой-то уникальный идентификатор предложения."
   ]
  },
  {
   "cell_type": "code",
   "execution_count": 8,
   "metadata": {},
   "outputs": [
    {
     "data": {
      "text/plain": [
       "array([5, 6, 2, 4, 3, 1, 0], dtype=int64)"
      ]
     },
     "execution_count": 8,
     "metadata": {},
     "output_type": "execute_result"
    }
   ],
   "source": [
    "# Уникальные значения 'weekday_key'\n",
    "data.weekday_key.unique()"
   ]
  },
  {
   "cell_type": "markdown",
   "metadata": {},
   "source": [
    "Получается, что 'weekday_key' - номера дней недели от 0 до 6. "
   ]
  },
  {
   "cell_type": "code",
   "execution_count": 9,
   "metadata": {},
   "outputs": [
    {
     "name": "stdout",
     "output_type": "stream",
     "text": [
      "[20 14  6 16 15 11  7 10 12  8  9 21 17 23 13 18  5 19 22  0  2  3  1  4]\n"
     ]
    },
    {
     "data": {
      "text/plain": [
       "24"
      ]
     },
     "execution_count": 9,
     "metadata": {},
     "output_type": "execute_result"
    }
   ],
   "source": [
    "# Уникальные значения 'hour_key'\n",
    "print(data.hour_key.unique())\n",
    "# Количество уникальных значений 'hour_key'\n",
    "len(list(data.hour_key.unique()))"
   ]
  },
  {
   "cell_type": "markdown",
   "metadata": {},
   "source": [
    "'hour_key' - порядковый номер часа внутри одного дня - от 0 до 23."
   ]
  },
  {
   "cell_type": "code",
   "execution_count": 10,
   "metadata": {},
   "outputs": [
    {
     "data": {
      "text/plain": [
       "439"
      ]
     },
     "execution_count": 10,
     "metadata": {},
     "output_type": "execute_result"
    }
   ],
   "source": [
    "# Количество уникальных значений 'driver_gk'\n",
    "len(list(data.driver_gk.unique()))"
   ]
  },
  {
   "cell_type": "markdown",
   "metadata": {},
   "source": [
    "'driver_gk' - уникальный идентификатор водителя. При этом на одного водителя в среднем приходится более 20 предложений."
   ]
  },
  {
   "cell_type": "code",
   "execution_count": 11,
   "metadata": {},
   "outputs": [
    {
     "data": {
      "text/plain": [
       "853342    14\n",
       "714527    13\n",
       "761031    13\n",
       "828548    12\n",
       "180487    12\n",
       "          ..\n",
       "529767     1\n",
       "361705     1\n",
       "57063      1\n",
       "782999     1\n",
       "786432     1\n",
       "Name: order_gk, Length: 81435, dtype: int64"
      ]
     },
     "execution_count": 11,
     "metadata": {},
     "output_type": "execute_result"
    }
   ],
   "source": [
    "# Количество уникальных значений 'order_gk' по группам\n",
    "data.order_gk.value_counts()"
   ]
  },
  {
   "cell_type": "markdown",
   "metadata": {},
   "source": [
    "Количество уникальных значений 'order_gk' - это уникальный идентификатор заказа. При этом данный показатель меньше, чем количество предложений 'offer_gk'. Значит один заказ может содержать в себе несколько предложений."
   ]
  },
  {
   "cell_type": "markdown",
   "metadata": {},
   "source": [
    "'driver_latitude', 'driver_longitude', 'origin_order_latitude' и 'origin_order_longitude' - координаты широты и долготы местонахождения водителя и заказчика в момент заказа. Некоторые значения данных признаков равны \"-1\", что некорректно, поскольку даные показатели не могут быть отрицательными."
   ]
  },
  {
   "cell_type": "code",
   "execution_count": 12,
   "metadata": {},
   "outputs": [
    {
     "data": {
      "text/plain": [
       "-1.000     26207\n",
       " 0.000       152\n",
       " 7.718        39\n",
       " 56.447       35\n",
       " 11.014       32\n",
       "           ...  \n",
       " 1.530         1\n",
       " 39.895        1\n",
       " 25.843        1\n",
       " 18.259        1\n",
       " 0.674         1\n",
       "Name: distance_km, Length: 31297, dtype: int64"
      ]
     },
     "execution_count": 12,
     "metadata": {},
     "output_type": "execute_result"
    }
   ],
   "source": [
    "# Количество уникальных значений 'distance_km' по группам\n",
    "data.distance_km.value_counts()"
   ]
  },
  {
   "cell_type": "code",
   "execution_count": 13,
   "metadata": {},
   "outputs": [
    {
     "data": {
      "text/plain": [
       "-1.000     26207\n",
       " 0.000       152\n",
       " 21.467       65\n",
       " 56.833       64\n",
       " 23.333       56\n",
       "           ...  \n",
       " 98.500        1\n",
       " 59.750        1\n",
       " 77.817        1\n",
       " 93.850        1\n",
       " 82.750        1\n",
       "Name: duration_min, Length: 4728, dtype: int64"
      ]
     },
     "execution_count": 13,
     "metadata": {},
     "output_type": "execute_result"
    }
   ],
   "source": [
    "# Количество уникальных значений 'duration_min' по группам\n",
    "data.duration_min.value_counts()"
   ]
  },
  {
   "cell_type": "markdown",
   "metadata": {},
   "source": [
    "Признаки 'distance_km' и 'duration_min' - это протяженность и длительность поездки. Данные признаки имеют по 26% значений, равных \"-1\". Поскольку протяженность и длительность не могут быть отрицательными, то по данным значениям примем допущение, что пункт назначения не был установлен на момент заказа такси."
   ]
  },
  {
   "cell_type": "code",
   "execution_count": 14,
   "metadata": {},
   "outputs": [
    {
     "name": "stdout",
     "output_type": "stream",
     "text": [
      "['Economy' 'Standard' 'XL' 'Kids' 'Delivery' 'Test' 'Premium' 'VIP' 'VIP+']\n",
      "Количество \"offer_class_group\":  9\n"
     ]
    }
   ],
   "source": [
    "# Уникальные значения 'offer_class_group'\n",
    "print(data.offer_class_group.unique())\n",
    "print('Количество \"offer_class_group\": ', len(data.offer_class_group.unique()))"
   ]
  },
  {
   "cell_type": "markdown",
   "metadata": {},
   "source": [
    "'offer_class_group' - класс заказываемого такси (всего 9 классов)."
   ]
  },
  {
   "cell_type": "code",
   "execution_count": 15,
   "metadata": {},
   "outputs": [
    {
     "name": "stdout",
     "output_type": "stream",
     "text": [
      "['private' 'business' 'affiliate' 'SMB']\n",
      "Количество \"ride_type_desc\":  4\n"
     ]
    }
   ],
   "source": [
    "# Уникальные значения 'ride_type_desc'\n",
    "print(data.ride_type_desc.unique())\n",
    "print('Количество \"ride_type_desc\": ', len(data.ride_type_desc.unique()))"
   ]
  },
  {
   "cell_type": "markdown",
   "metadata": {},
   "source": [
    "'ride_type_desc' - классификатор частного или делового заказа (всего 4 типа)."
   ]
  },
  {
   "cell_type": "code",
   "execution_count": 16,
   "metadata": {},
   "outputs": [
    {
     "data": {
      "text/plain": [
       "0    50752\n",
       "1    49248\n",
       "Name: driver_response, dtype: int64"
      ]
     },
     "execution_count": 16,
     "metadata": {},
     "output_type": "execute_result"
    }
   ],
   "source": [
    "# Количество уникальных значений 'driver_response' по группам\n",
    "data.driver_response.value_counts()"
   ]
  },
  {
   "cell_type": "markdown",
   "metadata": {},
   "source": [
    "Решение водителей по заказам разделились примерно одинакого с преобладанием отказов."
   ]
  },
  {
   "cell_type": "markdown",
   "metadata": {},
   "source": [
    "#### Обобщение первых выводов: \n",
    "1. Общее количество признаков - 14;\n",
    "2. Количество значений каждого признака - 100000; \n",
    "3. Пропусков значений нет ни по одному признаку;\n",
    "4. Интерпретация названий признаков:\n",
    " - offer_gk - уникальный идентификатор предложения такси;\n",
    " - weekday_key - номер дня недели заказа такси (0 = воскресенье, 1 = понедельник, 2 = вторник и т.д.);\n",
    " - hour_key - час дня заказа такси (от 0:00 до 23:59);\n",
    " - driver_gk - уникальный идентификатор водителя;\n",
    " - order_gk - уникальный идентификатор заказа; один заказ может содержать в себе несколько предложений;\n",
    " - driver_latitude - географическая широта водителя на момент получения предложения;\n",
    " - driver_longitude - географическая долгота водителя на момент получения предложения; \n",
    " - origin_order_latitude - географическая широта места начала заказа на момент получения предложения;\n",
    " - origin_order_longitude - географическая долгота места начала заказа на момент получения предложения;\n",
    " - distance_km - расчетное расстояние от пункта отправления до пункта назначения в километрах. Значение \"-1\" означает, что       пункт назначения не установлен;\n",
    " - duration_min - расчетная продолжительность поездки от пункта отправления до пункта назначения в минутах. Значение \"-1\" означает, что пункт назначения не установлен;\n",
    " - offer_class_group -  класс заказа (например, 'Economy', 'Standard', 'XL', 'Kids' и т.д., всего 9 классов);\n",
    " - ride_type_desc - классификатор частного или делового заказа ('private', 'business', 'affiliate', 'SMB'); \n",
    " - driver_response - решение водителя по заказу (0 - не берет, 1 - берет)."
   ]
  },
  {
   "cell_type": "markdown",
   "metadata": {},
   "source": [
    "#### 3. Выявление пропусков, а также возможных причин их возникновения. "
   ]
  },
  {
   "cell_type": "markdown",
   "metadata": {},
   "source": [
    "Пустых значений в датасете нет."
   ]
  },
  {
   "cell_type": "markdown",
   "metadata": {},
   "source": [
    "#### 4. Оценка зависимости переменных между собой. Использование корреляции и profile_report. "
   ]
  },
  {
   "cell_type": "code",
   "execution_count": 17,
   "metadata": {},
   "outputs": [
    {
     "name": "stdout",
     "output_type": "stream",
     "text": [
      "\n",
      "МАТРИЦА КОРРЕЛЯЦИЙ\n"
     ]
    },
    {
     "data": {
      "text/plain": [
       "(12.0, 0.0)"
      ]
     },
     "execution_count": 17,
     "metadata": {},
     "output_type": "execute_result"
    },
    {
     "data": {
      "image/png": "[encoded data removed]",
      "text/plain": [
       "<Figure size 576x576 with 2 Axes>"
      ]
     },
     "metadata": {
      "needs_background": "light"
     },
     "output_type": "display_data"
    }
   ],
   "source": [
    "#Построение матрицы корреляции\n",
    "print('\\nМАТРИЦА КОРРЕЛЯЦИЙ')\n",
    "f, ax = plt.subplots(figsize=(8, 8))\n",
    "corr = np.round_(data.corr(), decimals=2)\n",
    "sns.heatmap(corr,annot=True,cmap='RdYlGn',linewidths=0.2)\n",
    "i, k = ax.get_ylim()\n",
    "ax.set_ylim(i+0.5, k-0.5)"
   ]
  },
  {
   "cell_type": "markdown",
   "metadata": {},
   "source": [
    "Наблюдаем высокую корреляцию 0,99 и 0,86 между 'driver_latitude' / 'driver_longitude' и 'origin_order_latitude' / 'origin_order_longitude' соответственно.\n",
    "\n",
    "Отдельно удалить по одному признаку из корреляционных пар будет неверно, поскольку потеряем часть информации, но и оставить все эти признаки нельзя, т.к. это может привести к переобучению модели, а следовательно к неверному результату. Поэтому для исключения мультиколлинеарности создадим новый признак из указанных выше параметров с последующим удалением этих параметров: distance_to_order - расстояние от водителя до пункта отправления в момент появления заказа. \n",
    "\n",
    "Также есть высокая корреляция между 'distance_km' и 'duration_min'. Для исключения мультиколлинеарности можно либо оставить только один признак из пары, или по приведенной выше аналогии с координатами создать новый признак  - speed_average - среднюю скорость поездки от пункта отправления до пункта назначения, а два базовых - удалить. Но поскольку 'distance_km' и 'duration_min' - это расчетные, а не фактические показатели, то в каждом из них может быть ошибка, а преобразуя эти показатели в новый - ошибка может увеличиться. \n",
    "\n",
    "Исходя из предположения, что рассчетное расстояние между пунктом отправления и пунктом прибытия - это более точный показатель, чем расчетная продолжительность поездки, оставим только 'distance_km' для целей нашей работы. Признак 'duration_min' удалим.  "
   ]
  },
  {
   "cell_type": "markdown",
   "metadata": {},
   "source": [
    "##### distance_to_order\n",
    "Для определения 'distance_to_order' рассчитаем расстояние между двумя точками с помощью Geopy. В своих расчетах Geopy использует геодезическое расстояние или расстояние по большому кругу (см. документацию https://pypi.org/project/geopy/).\n",
    "\n",
    "Для формирования первой точки (местоположение водителя) используем 'driver_latitude' и 'driver_longitude', второй (пункт отправления) - 'origin_order_latitude' и 'origin_order_longitude'.\n",
    "\n",
    "Предварительно проанализируем значения данных признаков.\n"
   ]
  },
  {
   "cell_type": "code",
   "execution_count": 18,
   "metadata": {},
   "outputs": [
    {
     "name": "stdout",
     "output_type": "stream",
     "text": [
      "Минимальные значения координат без учета \"0\" и \"-1\": 55.327636, 36.984771, 55.32791700000001 и 36.994072\n"
     ]
    }
   ],
   "source": [
    "# Анализ значений 'driver_latitude', 'driver_longitude', 'origin_order_latitude' и 'origin_order_longitude'\n",
    "\n",
    "a = data['driver_latitude'].replace([0, -1], 100) \n",
    "b = data['driver_longitude'].replace([0, -1], 100) \n",
    "c = data['origin_order_latitude'].replace([0, -1], 100) \n",
    "d = data['origin_order_longitude'].replace([0, -1], 100) \n",
    "print(f'Минимальные значения координат без учета \"0\" и \"-1\": {a.min()}, {b.min()}, {c.min()} и {d.min()}')"
   ]
  },
  {
   "cell_type": "markdown",
   "metadata": {},
   "source": [
    "Таким образом, нетипичные значения для данных координат это '0' и '-1.' Определим количество таких значений в датасете."
   ]
  },
  {
   "cell_type": "code",
   "execution_count": 19,
   "metadata": {},
   "outputs": [
    {
     "name": "stdout",
     "output_type": "stream",
     "text": [
      "Количество значений с 0 и 1: 141\n"
     ]
    },
    {
     "data": {
      "text/html": [
       "<div>\n",
       "<style scoped>\n",
       "    .dataframe tbody tr th:only-of-type {\n",
       "        vertical-align: middle;\n",
       "    }\n",
       "\n",
       "    .dataframe tbody tr th {\n",
       "        vertical-align: top;\n",
       "    }\n",
       "\n",
       "    .dataframe thead th {\n",
       "        text-align: right;\n",
       "    }\n",
       "</style>\n",
       "<table border=\"1\" class=\"dataframe\">\n",
       "  <thead>\n",
       "    <tr style=\"text-align: right;\">\n",
       "      <th></th>\n",
       "      <th>offer_gk</th>\n",
       "      <th>weekday_key</th>\n",
       "      <th>hour_key</th>\n",
       "      <th>driver_gk</th>\n",
       "      <th>order_gk</th>\n",
       "      <th>driver_latitude</th>\n",
       "      <th>driver_longitude</th>\n",
       "      <th>origin_order_latitude</th>\n",
       "      <th>origin_order_longitude</th>\n",
       "      <th>distance_km</th>\n",
       "      <th>duration_min</th>\n",
       "      <th>offer_class_group</th>\n",
       "      <th>ride_type_desc</th>\n",
       "      <th>driver_response</th>\n",
       "    </tr>\n",
       "  </thead>\n",
       "  <tbody>\n",
       "    <tr>\n",
       "      <td>565</td>\n",
       "      <td>638186</td>\n",
       "      <td>5</td>\n",
       "      <td>14</td>\n",
       "      <td>6272</td>\n",
       "      <td>817074</td>\n",
       "      <td>-1.0</td>\n",
       "      <td>-1.0</td>\n",
       "      <td>55.908664</td>\n",
       "      <td>37.597781</td>\n",
       "      <td>-1.000</td>\n",
       "      <td>-1.00</td>\n",
       "      <td>Standard</td>\n",
       "      <td>business</td>\n",
       "      <td>1</td>\n",
       "    </tr>\n",
       "    <tr>\n",
       "      <td>2111</td>\n",
       "      <td>567790</td>\n",
       "      <td>1</td>\n",
       "      <td>12</td>\n",
       "      <td>6792</td>\n",
       "      <td>820788</td>\n",
       "      <td>-1.0</td>\n",
       "      <td>-1.0</td>\n",
       "      <td>55.415361</td>\n",
       "      <td>37.898917</td>\n",
       "      <td>-1.000</td>\n",
       "      <td>-1.00</td>\n",
       "      <td>Standard</td>\n",
       "      <td>business</td>\n",
       "      <td>1</td>\n",
       "    </tr>\n",
       "    <tr>\n",
       "      <td>2129</td>\n",
       "      <td>302376</td>\n",
       "      <td>1</td>\n",
       "      <td>1</td>\n",
       "      <td>6792</td>\n",
       "      <td>548327</td>\n",
       "      <td>-1.0</td>\n",
       "      <td>-1.0</td>\n",
       "      <td>55.415361</td>\n",
       "      <td>37.898917</td>\n",
       "      <td>83.923</td>\n",
       "      <td>81.35</td>\n",
       "      <td>Standard</td>\n",
       "      <td>business</td>\n",
       "      <td>1</td>\n",
       "    </tr>\n",
       "    <tr>\n",
       "      <td>2137</td>\n",
       "      <td>427612</td>\n",
       "      <td>6</td>\n",
       "      <td>21</td>\n",
       "      <td>6792</td>\n",
       "      <td>32158</td>\n",
       "      <td>-1.0</td>\n",
       "      <td>-1.0</td>\n",
       "      <td>55.415361</td>\n",
       "      <td>37.898917</td>\n",
       "      <td>-1.000</td>\n",
       "      <td>-1.00</td>\n",
       "      <td>Standard</td>\n",
       "      <td>business</td>\n",
       "      <td>1</td>\n",
       "    </tr>\n",
       "    <tr>\n",
       "      <td>2142</td>\n",
       "      <td>202875</td>\n",
       "      <td>6</td>\n",
       "      <td>3</td>\n",
       "      <td>6792</td>\n",
       "      <td>346671</td>\n",
       "      <td>-1.0</td>\n",
       "      <td>-1.0</td>\n",
       "      <td>55.415361</td>\n",
       "      <td>37.898917</td>\n",
       "      <td>70.529</td>\n",
       "      <td>65.00</td>\n",
       "      <td>Standard</td>\n",
       "      <td>business</td>\n",
       "      <td>1</td>\n",
       "    </tr>\n",
       "  </tbody>\n",
       "</table>\n",
       "</div>"
      ],
      "text/plain": [
       "      offer_gk  weekday_key  hour_key  driver_gk  order_gk  driver_latitude  \\\n",
       "565     638186            5        14       6272    817074             -1.0   \n",
       "2111    567790            1        12       6792    820788             -1.0   \n",
       "2129    302376            1         1       6792    548327             -1.0   \n",
       "2137    427612            6        21       6792     32158             -1.0   \n",
       "2142    202875            6         3       6792    346671             -1.0   \n",
       "\n",
       "      driver_longitude  origin_order_latitude  origin_order_longitude  \\\n",
       "565               -1.0              55.908664               37.597781   \n",
       "2111              -1.0              55.415361               37.898917   \n",
       "2129              -1.0              55.415361               37.898917   \n",
       "2137              -1.0              55.415361               37.898917   \n",
       "2142              -1.0              55.415361               37.898917   \n",
       "\n",
       "      distance_km  duration_min offer_class_group ride_type_desc  \\\n",
       "565        -1.000         -1.00          Standard       business   \n",
       "2111       -1.000         -1.00          Standard       business   \n",
       "2129       83.923         81.35          Standard       business   \n",
       "2137       -1.000         -1.00          Standard       business   \n",
       "2142       70.529         65.00          Standard       business   \n",
       "\n",
       "      driver_response  \n",
       "565                 1  \n",
       "2111                1  \n",
       "2129                1  \n",
       "2137                1  \n",
       "2142                1  "
      ]
     },
     "execution_count": 19,
     "metadata": {},
     "output_type": "execute_result"
    }
   ],
   "source": [
    "# driver_latitude / driver_longitude\n",
    "print('Количество значений с 0 и 1:', data['driver_latitude'].isin(['0', '-1']).sum())\n",
    "data.loc[ data['driver_latitude'].isin(['0', '-1'])].head(5)"
   ]
  },
  {
   "cell_type": "code",
   "execution_count": 20,
   "metadata": {},
   "outputs": [
    {
     "name": "stdout",
     "output_type": "stream",
     "text": [
      "Количество значений с 0 и 1: 13\n"
     ]
    },
    {
     "data": {
      "text/html": [
       "<div>\n",
       "<style scoped>\n",
       "    .dataframe tbody tr th:only-of-type {\n",
       "        vertical-align: middle;\n",
       "    }\n",
       "\n",
       "    .dataframe tbody tr th {\n",
       "        vertical-align: top;\n",
       "    }\n",
       "\n",
       "    .dataframe thead th {\n",
       "        text-align: right;\n",
       "    }\n",
       "</style>\n",
       "<table border=\"1\" class=\"dataframe\">\n",
       "  <thead>\n",
       "    <tr style=\"text-align: right;\">\n",
       "      <th></th>\n",
       "      <th>offer_gk</th>\n",
       "      <th>weekday_key</th>\n",
       "      <th>hour_key</th>\n",
       "      <th>driver_gk</th>\n",
       "      <th>order_gk</th>\n",
       "      <th>driver_latitude</th>\n",
       "      <th>driver_longitude</th>\n",
       "      <th>origin_order_latitude</th>\n",
       "      <th>origin_order_longitude</th>\n",
       "      <th>distance_km</th>\n",
       "      <th>duration_min</th>\n",
       "      <th>offer_class_group</th>\n",
       "      <th>ride_type_desc</th>\n",
       "      <th>driver_response</th>\n",
       "    </tr>\n",
       "  </thead>\n",
       "  <tbody>\n",
       "    <tr>\n",
       "      <td>1687</td>\n",
       "      <td>760201</td>\n",
       "      <td>6</td>\n",
       "      <td>17</td>\n",
       "      <td>1479</td>\n",
       "      <td>217451</td>\n",
       "      <td>55.730637</td>\n",
       "      <td>37.491326</td>\n",
       "      <td>-1.0</td>\n",
       "      <td>-1.0</td>\n",
       "      <td>2.942</td>\n",
       "      <td>6.300</td>\n",
       "      <td>Economy</td>\n",
       "      <td>private</td>\n",
       "      <td>1</td>\n",
       "    </tr>\n",
       "    <tr>\n",
       "      <td>9407</td>\n",
       "      <td>729617</td>\n",
       "      <td>1</td>\n",
       "      <td>21</td>\n",
       "      <td>1835</td>\n",
       "      <td>404650</td>\n",
       "      <td>55.484133</td>\n",
       "      <td>37.850971</td>\n",
       "      <td>-1.0</td>\n",
       "      <td>-1.0</td>\n",
       "      <td>-1.000</td>\n",
       "      <td>-1.000</td>\n",
       "      <td>Standard</td>\n",
       "      <td>private</td>\n",
       "      <td>0</td>\n",
       "    </tr>\n",
       "    <tr>\n",
       "      <td>43328</td>\n",
       "      <td>1033378</td>\n",
       "      <td>3</td>\n",
       "      <td>10</td>\n",
       "      <td>5586</td>\n",
       "      <td>386108</td>\n",
       "      <td>55.762383</td>\n",
       "      <td>37.772572</td>\n",
       "      <td>-1.0</td>\n",
       "      <td>-1.0</td>\n",
       "      <td>14.127</td>\n",
       "      <td>21.433</td>\n",
       "      <td>Economy</td>\n",
       "      <td>private</td>\n",
       "      <td>1</td>\n",
       "    </tr>\n",
       "    <tr>\n",
       "      <td>43688</td>\n",
       "      <td>299807</td>\n",
       "      <td>3</td>\n",
       "      <td>18</td>\n",
       "      <td>14</td>\n",
       "      <td>69484</td>\n",
       "      <td>55.640164</td>\n",
       "      <td>37.534014</td>\n",
       "      <td>-1.0</td>\n",
       "      <td>-1.0</td>\n",
       "      <td>9.998</td>\n",
       "      <td>22.133</td>\n",
       "      <td>Standard</td>\n",
       "      <td>private</td>\n",
       "      <td>1</td>\n",
       "    </tr>\n",
       "    <tr>\n",
       "      <td>51365</td>\n",
       "      <td>833482</td>\n",
       "      <td>0</td>\n",
       "      <td>20</td>\n",
       "      <td>75</td>\n",
       "      <td>782429</td>\n",
       "      <td>55.619920</td>\n",
       "      <td>37.395172</td>\n",
       "      <td>-1.0</td>\n",
       "      <td>-1.0</td>\n",
       "      <td>28.607</td>\n",
       "      <td>32.967</td>\n",
       "      <td>Economy</td>\n",
       "      <td>private</td>\n",
       "      <td>0</td>\n",
       "    </tr>\n",
       "  </tbody>\n",
       "</table>\n",
       "</div>"
      ],
      "text/plain": [
       "       offer_gk  weekday_key  hour_key  driver_gk  order_gk  driver_latitude  \\\n",
       "1687     760201            6        17       1479    217451        55.730637   \n",
       "9407     729617            1        21       1835    404650        55.484133   \n",
       "43328   1033378            3        10       5586    386108        55.762383   \n",
       "43688    299807            3        18         14     69484        55.640164   \n",
       "51365    833482            0        20         75    782429        55.619920   \n",
       "\n",
       "       driver_longitude  origin_order_latitude  origin_order_longitude  \\\n",
       "1687          37.491326                   -1.0                    -1.0   \n",
       "9407          37.850971                   -1.0                    -1.0   \n",
       "43328         37.772572                   -1.0                    -1.0   \n",
       "43688         37.534014                   -1.0                    -1.0   \n",
       "51365         37.395172                   -1.0                    -1.0   \n",
       "\n",
       "       distance_km  duration_min offer_class_group ride_type_desc  \\\n",
       "1687         2.942         6.300           Economy        private   \n",
       "9407        -1.000        -1.000          Standard        private   \n",
       "43328       14.127        21.433           Economy        private   \n",
       "43688        9.998        22.133          Standard        private   \n",
       "51365       28.607        32.967           Economy        private   \n",
       "\n",
       "       driver_response  \n",
       "1687                 1  \n",
       "9407                 0  \n",
       "43328                1  \n",
       "43688                1  \n",
       "51365                0  "
      ]
     },
     "execution_count": 20,
     "metadata": {},
     "output_type": "execute_result"
    }
   ],
   "source": [
    "# origin_order_latitude / origin_order_latitude\n",
    "print('Количество значений с 0 и 1:', data['origin_order_latitude'].isin(['0', '-1']).sum())\n",
    "data.loc[ data['origin_order_latitude'].isin(['0', '-1'])].head(5)"
   ]
  },
  {
   "cell_type": "markdown",
   "metadata": {},
   "source": [
    "Поскольку некоторые значения признаков 'driver_latitude', 'driver_longitude', 'origin_order_latitude' и 'origin_order_longitude' равны 0 и -1, то можно предположить, что по этим заказам не установлено место нахождения водителя или пункта отправления. Для целей обучения модели значение 'distance_to_order' по таким ячейкам примем равное среднему значению известных координат."
   ]
  },
  {
   "cell_type": "code",
   "execution_count": 21,
   "metadata": {},
   "outputs": [
    {
     "name": "stdout",
     "output_type": "stream",
     "text": [
      "Requirement already satisfied: geopy in c:\\users1\\lib\\site-packages (1.22.0)\n",
      "Requirement already satisfied: geographiclib<2,>=1.49 in c:\\users1\\lib\\site-packages (from geopy) (1.50)\n",
      "Note: you may need to restart the kernel to use updated packages.\n"
     ]
    },
    {
     "name": "stderr",
     "output_type": "stream",
     "text": [
      "WARNING: You are using pip version 20.1; however, version 20.1.1 is available.\n",
      "You should consider upgrading via the 'C:\\Users1\\python.exe -m pip install --upgrade pip' command.\n"
     ]
    }
   ],
   "source": [
    "pip install geopy"
   ]
  },
  {
   "cell_type": "code",
   "execution_count": 22,
   "metadata": {},
   "outputs": [
    {
     "data": {
      "text/html": [
       "<div>\n",
       "<style scoped>\n",
       "    .dataframe tbody tr th:only-of-type {\n",
       "        vertical-align: middle;\n",
       "    }\n",
       "\n",
       "    .dataframe tbody tr th {\n",
       "        vertical-align: top;\n",
       "    }\n",
       "\n",
       "    .dataframe thead th {\n",
       "        text-align: right;\n",
       "    }\n",
       "</style>\n",
       "<table border=\"1\" class=\"dataframe\">\n",
       "  <thead>\n",
       "    <tr style=\"text-align: right;\">\n",
       "      <th></th>\n",
       "      <th>offer_gk</th>\n",
       "      <th>weekday_key</th>\n",
       "      <th>hour_key</th>\n",
       "      <th>driver_gk</th>\n",
       "      <th>order_gk</th>\n",
       "      <th>distance_km</th>\n",
       "      <th>duration_min</th>\n",
       "      <th>offer_class_group</th>\n",
       "      <th>ride_type_desc</th>\n",
       "      <th>driver_response</th>\n",
       "      <th>distance_to_order</th>\n",
       "    </tr>\n",
       "  </thead>\n",
       "  <tbody>\n",
       "    <tr>\n",
       "      <td>0</td>\n",
       "      <td>1105373</td>\n",
       "      <td>5</td>\n",
       "      <td>20</td>\n",
       "      <td>6080</td>\n",
       "      <td>174182</td>\n",
       "      <td>-1.000</td>\n",
       "      <td>-1.000</td>\n",
       "      <td>Economy</td>\n",
       "      <td>private</td>\n",
       "      <td>0</td>\n",
       "      <td>1.36736</td>\n",
       "    </tr>\n",
       "    <tr>\n",
       "      <td>1</td>\n",
       "      <td>759733</td>\n",
       "      <td>5</td>\n",
       "      <td>14</td>\n",
       "      <td>6080</td>\n",
       "      <td>358774</td>\n",
       "      <td>18.802</td>\n",
       "      <td>25.217</td>\n",
       "      <td>Standard</td>\n",
       "      <td>private</td>\n",
       "      <td>1</td>\n",
       "      <td>3.42326</td>\n",
       "    </tr>\n",
       "    <tr>\n",
       "      <td>2</td>\n",
       "      <td>416977</td>\n",
       "      <td>6</td>\n",
       "      <td>14</td>\n",
       "      <td>6080</td>\n",
       "      <td>866260</td>\n",
       "      <td>6.747</td>\n",
       "      <td>9.800</td>\n",
       "      <td>Economy</td>\n",
       "      <td>private</td>\n",
       "      <td>0</td>\n",
       "      <td>0.411356</td>\n",
       "    </tr>\n",
       "    <tr>\n",
       "      <td>3</td>\n",
       "      <td>889660</td>\n",
       "      <td>2</td>\n",
       "      <td>6</td>\n",
       "      <td>6080</td>\n",
       "      <td>163522</td>\n",
       "      <td>-1.000</td>\n",
       "      <td>-1.000</td>\n",
       "      <td>Economy</td>\n",
       "      <td>private</td>\n",
       "      <td>1</td>\n",
       "      <td>0.64944</td>\n",
       "    </tr>\n",
       "    <tr>\n",
       "      <td>4</td>\n",
       "      <td>1120055</td>\n",
       "      <td>4</td>\n",
       "      <td>16</td>\n",
       "      <td>6080</td>\n",
       "      <td>506710</td>\n",
       "      <td>12.383</td>\n",
       "      <td>19.250</td>\n",
       "      <td>Economy</td>\n",
       "      <td>private</td>\n",
       "      <td>1</td>\n",
       "      <td>1.06412</td>\n",
       "    </tr>\n",
       "  </tbody>\n",
       "</table>\n",
       "</div>"
      ],
      "text/plain": [
       "   offer_gk  weekday_key  hour_key  driver_gk  order_gk  distance_km  \\\n",
       "0   1105373            5        20       6080    174182       -1.000   \n",
       "1    759733            5        14       6080    358774       18.802   \n",
       "2    416977            6        14       6080    866260        6.747   \n",
       "3    889660            2         6       6080    163522       -1.000   \n",
       "4   1120055            4        16       6080    506710       12.383   \n",
       "\n",
       "   duration_min offer_class_group ride_type_desc  driver_response  \\\n",
       "0        -1.000           Economy        private                0   \n",
       "1        25.217          Standard        private                1   \n",
       "2         9.800           Economy        private                0   \n",
       "3        -1.000           Economy        private                1   \n",
       "4        19.250           Economy        private                1   \n",
       "\n",
       "  distance_to_order  \n",
       "0           1.36736  \n",
       "1           3.42326  \n",
       "2          0.411356  \n",
       "3           0.64944  \n",
       "4           1.06412  "
      ]
     },
     "execution_count": 22,
     "metadata": {},
     "output_type": "execute_result"
    }
   ],
   "source": [
    "from geopy.distance import geodesic\n",
    "\n",
    "def distance_func(row):\n",
    "    '''Расчет расстояние от водителя до пункта отправления в момент появления заказа.'''  \n",
    "    if (row['driver_latitude'] == 0) or (row['driver_latitude'] == -1) or (row['origin_order_latitude'] == 0) or (row['origin_order_latitude'] == -1):\n",
    "        \n",
    "        return 'Пусто'\n",
    "    else:\n",
    "        coordinate_1 = (row['driver_latitude'], row['driver_longitude'])\n",
    "        coordinate_2 = (row['origin_order_latitude'], row['origin_order_longitude'])\n",
    "    \n",
    "        return geodesic(coordinate_1, coordinate_2).kilometers\n",
    "    \n",
    "data['distance_to_order'] = data.apply(distance_func, axis=1) \n",
    "\n",
    "\n",
    "#Удаление столбцов 'driver_latitude', 'driver_longitude', 'origin_order_latitude' и 'origin_order_longitude'\n",
    "data.drop(['driver_latitude', 'driver_longitude', 'origin_order_latitude', 'origin_order_longitude'], axis=1, inplace=True)\n",
    "\n",
    "data.head()"
   ]
  },
  {
   "cell_type": "code",
   "execution_count": 23,
   "metadata": {},
   "outputs": [],
   "source": [
    "# Определение среднего значения 'distance_to_order'\n",
    "mean_dist = data[(data['distance_to_order']!='Пусто')]['distance_to_order'].mean()"
   ]
  },
  {
   "cell_type": "code",
   "execution_count": 24,
   "metadata": {},
   "outputs": [
    {
     "data": {
      "text/html": [
       "<div>\n",
       "<style scoped>\n",
       "    .dataframe tbody tr th:only-of-type {\n",
       "        vertical-align: middle;\n",
       "    }\n",
       "\n",
       "    .dataframe tbody tr th {\n",
       "        vertical-align: top;\n",
       "    }\n",
       "\n",
       "    .dataframe thead th {\n",
       "        text-align: right;\n",
       "    }\n",
       "</style>\n",
       "<table border=\"1\" class=\"dataframe\">\n",
       "  <thead>\n",
       "    <tr style=\"text-align: right;\">\n",
       "      <th></th>\n",
       "      <th>offer_gk</th>\n",
       "      <th>weekday_key</th>\n",
       "      <th>hour_key</th>\n",
       "      <th>driver_gk</th>\n",
       "      <th>order_gk</th>\n",
       "      <th>distance_km</th>\n",
       "      <th>duration_min</th>\n",
       "      <th>offer_class_group</th>\n",
       "      <th>ride_type_desc</th>\n",
       "      <th>driver_response</th>\n",
       "      <th>distance_to_order</th>\n",
       "    </tr>\n",
       "  </thead>\n",
       "  <tbody>\n",
       "    <tr>\n",
       "      <td>0</td>\n",
       "      <td>1105373</td>\n",
       "      <td>5</td>\n",
       "      <td>20</td>\n",
       "      <td>6080</td>\n",
       "      <td>174182</td>\n",
       "      <td>-1.000</td>\n",
       "      <td>-1.000</td>\n",
       "      <td>Economy</td>\n",
       "      <td>private</td>\n",
       "      <td>0</td>\n",
       "      <td>1.367355</td>\n",
       "    </tr>\n",
       "    <tr>\n",
       "      <td>1</td>\n",
       "      <td>759733</td>\n",
       "      <td>5</td>\n",
       "      <td>14</td>\n",
       "      <td>6080</td>\n",
       "      <td>358774</td>\n",
       "      <td>18.802</td>\n",
       "      <td>25.217</td>\n",
       "      <td>Standard</td>\n",
       "      <td>private</td>\n",
       "      <td>1</td>\n",
       "      <td>3.423260</td>\n",
       "    </tr>\n",
       "    <tr>\n",
       "      <td>2</td>\n",
       "      <td>416977</td>\n",
       "      <td>6</td>\n",
       "      <td>14</td>\n",
       "      <td>6080</td>\n",
       "      <td>866260</td>\n",
       "      <td>6.747</td>\n",
       "      <td>9.800</td>\n",
       "      <td>Economy</td>\n",
       "      <td>private</td>\n",
       "      <td>0</td>\n",
       "      <td>0.411356</td>\n",
       "    </tr>\n",
       "    <tr>\n",
       "      <td>3</td>\n",
       "      <td>889660</td>\n",
       "      <td>2</td>\n",
       "      <td>6</td>\n",
       "      <td>6080</td>\n",
       "      <td>163522</td>\n",
       "      <td>-1.000</td>\n",
       "      <td>-1.000</td>\n",
       "      <td>Economy</td>\n",
       "      <td>private</td>\n",
       "      <td>1</td>\n",
       "      <td>0.649440</td>\n",
       "    </tr>\n",
       "    <tr>\n",
       "      <td>4</td>\n",
       "      <td>1120055</td>\n",
       "      <td>4</td>\n",
       "      <td>16</td>\n",
       "      <td>6080</td>\n",
       "      <td>506710</td>\n",
       "      <td>12.383</td>\n",
       "      <td>19.250</td>\n",
       "      <td>Economy</td>\n",
       "      <td>private</td>\n",
       "      <td>1</td>\n",
       "      <td>1.064116</td>\n",
       "    </tr>\n",
       "  </tbody>\n",
       "</table>\n",
       "</div>"
      ],
      "text/plain": [
       "   offer_gk  weekday_key  hour_key  driver_gk  order_gk  distance_km  \\\n",
       "0   1105373            5        20       6080    174182       -1.000   \n",
       "1    759733            5        14       6080    358774       18.802   \n",
       "2    416977            6        14       6080    866260        6.747   \n",
       "3    889660            2         6       6080    163522       -1.000   \n",
       "4   1120055            4        16       6080    506710       12.383   \n",
       "\n",
       "   duration_min offer_class_group ride_type_desc  driver_response  \\\n",
       "0        -1.000           Economy        private                0   \n",
       "1        25.217          Standard        private                1   \n",
       "2         9.800           Economy        private                0   \n",
       "3        -1.000           Economy        private                1   \n",
       "4        19.250           Economy        private                1   \n",
       "\n",
       "   distance_to_order  \n",
       "0           1.367355  \n",
       "1           3.423260  \n",
       "2           0.411356  \n",
       "3           0.649440  \n",
       "4           1.064116  "
      ]
     },
     "execution_count": 24,
     "metadata": {},
     "output_type": "execute_result"
    }
   ],
   "source": [
    "# Замена значений 'Пусто' признака 'distance_to_order'\n",
    "def distance_func_replace(row):\n",
    "    '''Замена значений в ячейках со значением \"Пусто\" на среднее значение \"mean_dist\".'''  \n",
    "    if row['distance_to_order'] == 'Пусто':    \n",
    "        return mean_dist\n",
    "    \n",
    "    else:\n",
    "        return row['distance_to_order']\n",
    "       \n",
    "data['distance_to_order'] = data.apply(distance_func_replace, axis=1) \n",
    "\n",
    "data.head()"
   ]
  },
  {
   "cell_type": "code",
   "execution_count": null,
   "metadata": {},
   "outputs": [],
   "source": []
  },
  {
   "cell_type": "markdown",
   "metadata": {},
   "source": [
    "Удалим признак 'duration_min'."
   ]
  },
  {
   "cell_type": "code",
   "execution_count": 25,
   "metadata": {},
   "outputs": [],
   "source": [
    "# Удаление столбца 'duration_min'\n",
    "data.drop(['duration_min'], axis=1, inplace=True)"
   ]
  },
  {
   "cell_type": "markdown",
   "metadata": {},
   "source": [
    "##### duration_min\n",
    "Проанализируем значения данного признака."
   ]
  },
  {
   "cell_type": "code",
   "execution_count": 26,
   "metadata": {},
   "outputs": [
    {
     "name": "stdout",
     "output_type": "stream",
     "text": [
      "Минимальное значение расстояния без учета \"0\" и \"-1\": 0.005 км\n"
     ]
    }
   ],
   "source": [
    "# Анализ значений 'distance_km'\n",
    "a = data['distance_km'].replace([0, -1], 100) \n",
    "\n",
    "print(f'Минимальное значение расстояния без учета \"0\" и \"-1\": {a.min()} км')"
   ]
  },
  {
   "cell_type": "markdown",
   "metadata": {},
   "source": [
    "Таким образом, в датасете есть нетипичные значения для скорости это '0' и '-1.' Определим количество таких значений."
   ]
  },
  {
   "cell_type": "code",
   "execution_count": 27,
   "metadata": {},
   "outputs": [
    {
     "name": "stdout",
     "output_type": "stream",
     "text": [
      "Количество значений \"distance_km\" с 0 и -1: 26359\n"
     ]
    }
   ],
   "source": [
    "# distance_km\n",
    "print('Количество значений \"distance_km\" с 0 и -1:', data['distance_km'].isin(['0', '-1']).sum())"
   ]
  },
  {
   "cell_type": "markdown",
   "metadata": {},
   "source": [
    "В итоге получили значительное количество предложений (около 26%), по которым значения признак 'distance_km' равны 0 и -1. Можно предположить, что по этим предложениям пункт назначения не установлен. Для целей обучения модели значение 'distance_km' по таким ячейкам можно принять равное среднему значению известных показателей или удалить строки, содержащие ячейки с 0 и -1. Примем первый вариант."
   ]
  },
  {
   "cell_type": "code",
   "execution_count": 28,
   "metadata": {},
   "outputs": [],
   "source": [
    "# Датасет без ячеек 'distance_km' <= 0\n",
    "data_new = data.loc[ data['distance_km'] > 0]"
   ]
  },
  {
   "cell_type": "code",
   "execution_count": 29,
   "metadata": {},
   "outputs": [
    {
     "data": {
      "text/plain": [
       "25.333153895248536"
      ]
     },
     "execution_count": 29,
     "metadata": {},
     "output_type": "execute_result"
    }
   ],
   "source": [
    "# Определение среднего значения 'distance_km' \n",
    "mean_distance_km = data_new['distance_km'].mean()\n",
    "mean_distance_km"
   ]
  },
  {
   "cell_type": "code",
   "execution_count": 30,
   "metadata": {},
   "outputs": [
    {
     "data": {
      "text/html": [
       "<div>\n",
       "<style scoped>\n",
       "    .dataframe tbody tr th:only-of-type {\n",
       "        vertical-align: middle;\n",
       "    }\n",
       "\n",
       "    .dataframe tbody tr th {\n",
       "        vertical-align: top;\n",
       "    }\n",
       "\n",
       "    .dataframe thead th {\n",
       "        text-align: right;\n",
       "    }\n",
       "</style>\n",
       "<table border=\"1\" class=\"dataframe\">\n",
       "  <thead>\n",
       "    <tr style=\"text-align: right;\">\n",
       "      <th></th>\n",
       "      <th>offer_gk</th>\n",
       "      <th>weekday_key</th>\n",
       "      <th>hour_key</th>\n",
       "      <th>driver_gk</th>\n",
       "      <th>order_gk</th>\n",
       "      <th>distance_km</th>\n",
       "      <th>offer_class_group</th>\n",
       "      <th>ride_type_desc</th>\n",
       "      <th>driver_response</th>\n",
       "      <th>distance_to_order</th>\n",
       "    </tr>\n",
       "  </thead>\n",
       "  <tbody>\n",
       "    <tr>\n",
       "      <td>0</td>\n",
       "      <td>1105373</td>\n",
       "      <td>5</td>\n",
       "      <td>20</td>\n",
       "      <td>6080</td>\n",
       "      <td>174182</td>\n",
       "      <td>25.333154</td>\n",
       "      <td>Economy</td>\n",
       "      <td>private</td>\n",
       "      <td>0</td>\n",
       "      <td>1.367355</td>\n",
       "    </tr>\n",
       "    <tr>\n",
       "      <td>1</td>\n",
       "      <td>759733</td>\n",
       "      <td>5</td>\n",
       "      <td>14</td>\n",
       "      <td>6080</td>\n",
       "      <td>358774</td>\n",
       "      <td>18.802000</td>\n",
       "      <td>Standard</td>\n",
       "      <td>private</td>\n",
       "      <td>1</td>\n",
       "      <td>3.423260</td>\n",
       "    </tr>\n",
       "    <tr>\n",
       "      <td>2</td>\n",
       "      <td>416977</td>\n",
       "      <td>6</td>\n",
       "      <td>14</td>\n",
       "      <td>6080</td>\n",
       "      <td>866260</td>\n",
       "      <td>6.747000</td>\n",
       "      <td>Economy</td>\n",
       "      <td>private</td>\n",
       "      <td>0</td>\n",
       "      <td>0.411356</td>\n",
       "    </tr>\n",
       "    <tr>\n",
       "      <td>3</td>\n",
       "      <td>889660</td>\n",
       "      <td>2</td>\n",
       "      <td>6</td>\n",
       "      <td>6080</td>\n",
       "      <td>163522</td>\n",
       "      <td>25.333154</td>\n",
       "      <td>Economy</td>\n",
       "      <td>private</td>\n",
       "      <td>1</td>\n",
       "      <td>0.649440</td>\n",
       "    </tr>\n",
       "    <tr>\n",
       "      <td>4</td>\n",
       "      <td>1120055</td>\n",
       "      <td>4</td>\n",
       "      <td>16</td>\n",
       "      <td>6080</td>\n",
       "      <td>506710</td>\n",
       "      <td>12.383000</td>\n",
       "      <td>Economy</td>\n",
       "      <td>private</td>\n",
       "      <td>1</td>\n",
       "      <td>1.064116</td>\n",
       "    </tr>\n",
       "  </tbody>\n",
       "</table>\n",
       "</div>"
      ],
      "text/plain": [
       "   offer_gk  weekday_key  hour_key  driver_gk  order_gk  distance_km  \\\n",
       "0   1105373            5        20       6080    174182    25.333154   \n",
       "1    759733            5        14       6080    358774    18.802000   \n",
       "2    416977            6        14       6080    866260     6.747000   \n",
       "3    889660            2         6       6080    163522    25.333154   \n",
       "4   1120055            4        16       6080    506710    12.383000   \n",
       "\n",
       "  offer_class_group ride_type_desc  driver_response  distance_to_order  \n",
       "0           Economy        private                0           1.367355  \n",
       "1          Standard        private                1           3.423260  \n",
       "2           Economy        private                0           0.411356  \n",
       "3           Economy        private                1           0.649440  \n",
       "4           Economy        private                1           1.064116  "
      ]
     },
     "execution_count": 30,
     "metadata": {},
     "output_type": "execute_result"
    }
   ],
   "source": [
    "# Замена значений 0 и -1 признака 'distance_km'\n",
    "def distance_replace(row):\n",
    "    '''Расчет средней скорости поездки.'''  \n",
    "    if row['distance_km'] <= 0:\n",
    "    \n",
    "        return mean_distance_km\n",
    "    else:\n",
    "        return row['distance_km']\n",
    "    \n",
    "data['distance_km'] = data.apply(distance_replace, axis=1) \n",
    "data.head()"
   ]
  },
  {
   "cell_type": "markdown",
   "metadata": {},
   "source": [
    "Теперь проанализируем признаки 'offer_gk', 'order_gk' и 'driver_gk'. Они представляют собой категориальные переменные в числовом выражении. Применить LabelEncoder или OneHotEncoder некорректно, поскольку значений у этих признаков очень много - от 439 до 100000. Поэтому попробуем сформировать из данных признаков новый.\n",
    "\n",
    "Определим количество предложений, которые приходятся на одного водителя, а затем объединим водителей по группам в зависимости от размера полученного показателя. Для этого воспользуемся 'offer_gk' и 'driver_gk'. "
   ]
  },
  {
   "cell_type": "code",
   "execution_count": 31,
   "metadata": {},
   "outputs": [],
   "source": [
    "# Группировка водителей и расчет предложения\n",
    "drivers = data.groupby('driver_gk')['offer_gk'].count()\n",
    "\n",
    "# Преобразование в словарь\n",
    "dict_driver = drivers.to_dict()"
   ]
  },
  {
   "cell_type": "markdown",
   "metadata": {},
   "source": [
    "Воспользуемся функцией для создания нового столбца - 'count_offers_for_driver' - размер предложения для каждого водителя."
   ]
  },
  {
   "cell_type": "code",
   "execution_count": 32,
   "metadata": {},
   "outputs": [
    {
     "data": {
      "text/html": [
       "<div>\n",
       "<style scoped>\n",
       "    .dataframe tbody tr th:only-of-type {\n",
       "        vertical-align: middle;\n",
       "    }\n",
       "\n",
       "    .dataframe tbody tr th {\n",
       "        vertical-align: top;\n",
       "    }\n",
       "\n",
       "    .dataframe thead th {\n",
       "        text-align: right;\n",
       "    }\n",
       "</style>\n",
       "<table border=\"1\" class=\"dataframe\">\n",
       "  <thead>\n",
       "    <tr style=\"text-align: right;\">\n",
       "      <th></th>\n",
       "      <th>weekday_key</th>\n",
       "      <th>hour_key</th>\n",
       "      <th>distance_km</th>\n",
       "      <th>offer_class_group</th>\n",
       "      <th>ride_type_desc</th>\n",
       "      <th>driver_response</th>\n",
       "      <th>distance_to_order</th>\n",
       "      <th>count_offers_for_driver</th>\n",
       "    </tr>\n",
       "  </thead>\n",
       "  <tbody>\n",
       "    <tr>\n",
       "      <td>0</td>\n",
       "      <td>5</td>\n",
       "      <td>20</td>\n",
       "      <td>25.333154</td>\n",
       "      <td>Economy</td>\n",
       "      <td>private</td>\n",
       "      <td>0</td>\n",
       "      <td>1.367355</td>\n",
       "      <td>278</td>\n",
       "    </tr>\n",
       "    <tr>\n",
       "      <td>1</td>\n",
       "      <td>5</td>\n",
       "      <td>14</td>\n",
       "      <td>18.802000</td>\n",
       "      <td>Standard</td>\n",
       "      <td>private</td>\n",
       "      <td>1</td>\n",
       "      <td>3.423260</td>\n",
       "      <td>278</td>\n",
       "    </tr>\n",
       "    <tr>\n",
       "      <td>2</td>\n",
       "      <td>6</td>\n",
       "      <td>14</td>\n",
       "      <td>6.747000</td>\n",
       "      <td>Economy</td>\n",
       "      <td>private</td>\n",
       "      <td>0</td>\n",
       "      <td>0.411356</td>\n",
       "      <td>278</td>\n",
       "    </tr>\n",
       "    <tr>\n",
       "      <td>3</td>\n",
       "      <td>2</td>\n",
       "      <td>6</td>\n",
       "      <td>25.333154</td>\n",
       "      <td>Economy</td>\n",
       "      <td>private</td>\n",
       "      <td>1</td>\n",
       "      <td>0.649440</td>\n",
       "      <td>278</td>\n",
       "    </tr>\n",
       "    <tr>\n",
       "      <td>4</td>\n",
       "      <td>4</td>\n",
       "      <td>16</td>\n",
       "      <td>12.383000</td>\n",
       "      <td>Economy</td>\n",
       "      <td>private</td>\n",
       "      <td>1</td>\n",
       "      <td>1.064116</td>\n",
       "      <td>278</td>\n",
       "    </tr>\n",
       "  </tbody>\n",
       "</table>\n",
       "</div>"
      ],
      "text/plain": [
       "   weekday_key  hour_key  distance_km offer_class_group ride_type_desc  \\\n",
       "0            5        20    25.333154           Economy        private   \n",
       "1            5        14    18.802000          Standard        private   \n",
       "2            6        14     6.747000           Economy        private   \n",
       "3            2         6    25.333154           Economy        private   \n",
       "4            4        16    12.383000           Economy        private   \n",
       "\n",
       "   driver_response  distance_to_order  count_offers_for_driver  \n",
       "0                0           1.367355                      278  \n",
       "1                1           3.423260                      278  \n",
       "2                0           0.411356                      278  \n",
       "3                1           0.649440                      278  \n",
       "4                1           1.064116                      278  "
      ]
     },
     "execution_count": 32,
     "metadata": {},
     "output_type": "execute_result"
    }
   ],
   "source": [
    "# Добавление в датасет нового столбца 'count_offers_for_driver' \n",
    "def offers_fo_driver(driver_gk, dict_driver):\n",
    "    return dict_driver[driver_gk]  \n",
    "data['count_offers_for_driver'] = data.driver_gk.map(dict_driver)    \n",
    "\n",
    "# Удаление столбцов 'offer_gk', driver_gk' и 'order_gk'\n",
    "data.drop(['offer_gk', 'driver_gk', 'order_gk'], axis=1, inplace=True)\n",
    "\n",
    "data.head()"
   ]
  },
  {
   "cell_type": "code",
   "execution_count": 34,
   "metadata": {},
   "outputs": [
    {
     "data": {
      "text/html": [
       "<div>\n",
       "<style scoped>\n",
       "    .dataframe tbody tr th:only-of-type {\n",
       "        vertical-align: middle;\n",
       "    }\n",
       "\n",
       "    .dataframe tbody tr th {\n",
       "        vertical-align: top;\n",
       "    }\n",
       "\n",
       "    .dataframe thead th {\n",
       "        text-align: right;\n",
       "    }\n",
       "</style>\n",
       "<table border=\"1\" class=\"dataframe\">\n",
       "  <thead>\n",
       "    <tr style=\"text-align: right;\">\n",
       "      <th></th>\n",
       "      <th>weekday_key</th>\n",
       "      <th>hour_key</th>\n",
       "      <th>distance_km</th>\n",
       "      <th>offer_class_group</th>\n",
       "      <th>ride_type_desc</th>\n",
       "      <th>driver_response</th>\n",
       "      <th>distance_to_order</th>\n",
       "      <th>count_offers_for_driver</th>\n",
       "    </tr>\n",
       "  </thead>\n",
       "  <tbody>\n",
       "    <tr>\n",
       "      <td>0</td>\n",
       "      <td>5</td>\n",
       "      <td>20</td>\n",
       "      <td>25.333154</td>\n",
       "      <td>Economy</td>\n",
       "      <td>private</td>\n",
       "      <td>0</td>\n",
       "      <td>1.367355</td>\n",
       "      <td>3</td>\n",
       "    </tr>\n",
       "    <tr>\n",
       "      <td>1</td>\n",
       "      <td>5</td>\n",
       "      <td>14</td>\n",
       "      <td>18.802000</td>\n",
       "      <td>Standard</td>\n",
       "      <td>private</td>\n",
       "      <td>1</td>\n",
       "      <td>3.423260</td>\n",
       "      <td>3</td>\n",
       "    </tr>\n",
       "    <tr>\n",
       "      <td>2</td>\n",
       "      <td>6</td>\n",
       "      <td>14</td>\n",
       "      <td>6.747000</td>\n",
       "      <td>Economy</td>\n",
       "      <td>private</td>\n",
       "      <td>0</td>\n",
       "      <td>0.411356</td>\n",
       "      <td>3</td>\n",
       "    </tr>\n",
       "    <tr>\n",
       "      <td>3</td>\n",
       "      <td>2</td>\n",
       "      <td>6</td>\n",
       "      <td>25.333154</td>\n",
       "      <td>Economy</td>\n",
       "      <td>private</td>\n",
       "      <td>1</td>\n",
       "      <td>0.649440</td>\n",
       "      <td>3</td>\n",
       "    </tr>\n",
       "    <tr>\n",
       "      <td>4</td>\n",
       "      <td>4</td>\n",
       "      <td>16</td>\n",
       "      <td>12.383000</td>\n",
       "      <td>Economy</td>\n",
       "      <td>private</td>\n",
       "      <td>1</td>\n",
       "      <td>1.064116</td>\n",
       "      <td>3</td>\n",
       "    </tr>\n",
       "  </tbody>\n",
       "</table>\n",
       "</div>"
      ],
      "text/plain": [
       "   weekday_key  hour_key  distance_km offer_class_group ride_type_desc  \\\n",
       "0            5        20    25.333154           Economy        private   \n",
       "1            5        14    18.802000          Standard        private   \n",
       "2            6        14     6.747000           Economy        private   \n",
       "3            2         6    25.333154           Economy        private   \n",
       "4            4        16    12.383000           Economy        private   \n",
       "\n",
       "   driver_response  distance_to_order  count_offers_for_driver  \n",
       "0                0           1.367355                        3  \n",
       "1                1           3.423260                        3  \n",
       "2                0           0.411356                        3  \n",
       "3                1           0.649440                        3  \n",
       "4                1           1.064116                        3  "
      ]
     },
     "execution_count": 34,
     "metadata": {},
     "output_type": "execute_result"
    }
   ],
   "source": [
    "# Группировка значений признака 'count_offers_for_driver'\n",
    "def group_func(row):\n",
    "    '''Группировка значений признака 'count_offers_for_driver'.'''  \n",
    "    if row['count_offers_for_driver'] <= 100:    \n",
    "        return 1\n",
    "    if row['count_offers_for_driver'] >= 101 and row['count_offers_for_driver'] <= 200:    \n",
    "        return 2\n",
    "    if row['count_offers_for_driver'] >= 201 and row['count_offers_for_driver'] <= 500:    \n",
    "        return 3\n",
    "    if row['count_offers_for_driver'] >= 501 and row['count_offers_for_driver'] <= 1500:    \n",
    "        return 4\n",
    "    if row['count_offers_for_driver'] >= 1501 and row['count_offers_for_driver'] <= 2000:    \n",
    "        return 5\n",
    "    if row['count_offers_for_driver'] >= 2001:    \n",
    "        return 6\n",
    "       \n",
    "data['count_offers_for_driver'] = data.apply(group_func, axis=1) \n",
    "\n",
    "data.head()"
   ]
  },
  {
   "cell_type": "code",
   "execution_count": null,
   "metadata": {},
   "outputs": [],
   "source": []
  },
  {
   "cell_type": "code",
   "execution_count": null,
   "metadata": {},
   "outputs": [],
   "source": []
  },
  {
   "cell_type": "code",
   "execution_count": null,
   "metadata": {},
   "outputs": [],
   "source": [
    "a = data.groupby(['hour_key'])['order_gk'].count().reset_index()\n",
    "a"
   ]
  },
  {
   "cell_type": "code",
   "execution_count": null,
   "metadata": {},
   "outputs": [],
   "source": [
    "# employee_salary = data.salary.value_counts()\n",
    "\n",
    "# bar-график\n",
    "a.plot(kind='bar')\n",
    "plt.title('Распределение заказов в течение дня\\n')\n",
    "plt.xlabel('\\nЧас')\n",
    "plt.ylabel('\\nКоличество зарегистрированных заказов')"
   ]
  },
  {
   "cell_type": "code",
   "execution_count": null,
   "metadata": {},
   "outputs": [],
   "source": []
  },
  {
   "cell_type": "code",
   "execution_count": null,
   "metadata": {},
   "outputs": [],
   "source": []
  },
  {
   "cell_type": "code",
   "execution_count": null,
   "metadata": {},
   "outputs": [],
   "source": []
  },
  {
   "cell_type": "code",
   "execution_count": null,
   "metadata": {},
   "outputs": [],
   "source": [
    "# Построение гистограмм отдельных колонок\n",
    "plt.figure(figsize=(15, 15))\n",
    "sns.pairplot(data[['distance_to_order', 'speed_average']]) #, 'driver_gk', 'CHAS', 'RM', 'DIS', 'RAD']])\n",
    "plt.show()"
   ]
  },
  {
   "cell_type": "markdown",
   "metadata": {},
   "source": [
    "Для построения дерева решений применим кодировку отдельных признаков с помощью LabelEncoder()."
   ]
  },
  {
   "cell_type": "code",
   "execution_count": 36,
   "metadata": {},
   "outputs": [],
   "source": [
    "from sklearn.preprocessing import LabelEncoder, OneHotEncoder"
   ]
  },
  {
   "cell_type": "code",
   "execution_count": 37,
   "metadata": {},
   "outputs": [
    {
     "data": {
      "text/html": [
       "<div>\n",
       "<style scoped>\n",
       "    .dataframe tbody tr th:only-of-type {\n",
       "        vertical-align: middle;\n",
       "    }\n",
       "\n",
       "    .dataframe tbody tr th {\n",
       "        vertical-align: top;\n",
       "    }\n",
       "\n",
       "    .dataframe thead th {\n",
       "        text-align: right;\n",
       "    }\n",
       "</style>\n",
       "<table border=\"1\" class=\"dataframe\">\n",
       "  <thead>\n",
       "    <tr style=\"text-align: right;\">\n",
       "      <th></th>\n",
       "      <th>weekday_key</th>\n",
       "      <th>hour_key</th>\n",
       "      <th>distance_km</th>\n",
       "      <th>offer_class_group</th>\n",
       "      <th>ride_type_desc</th>\n",
       "      <th>driver_response</th>\n",
       "      <th>distance_to_order</th>\n",
       "      <th>count_offers_for_driver</th>\n",
       "    </tr>\n",
       "  </thead>\n",
       "  <tbody>\n",
       "    <tr>\n",
       "      <td>0</td>\n",
       "      <td>5</td>\n",
       "      <td>20</td>\n",
       "      <td>25.333154</td>\n",
       "      <td>1</td>\n",
       "      <td>3</td>\n",
       "      <td>0</td>\n",
       "      <td>1.367355</td>\n",
       "      <td>3</td>\n",
       "    </tr>\n",
       "    <tr>\n",
       "      <td>1</td>\n",
       "      <td>5</td>\n",
       "      <td>14</td>\n",
       "      <td>18.802000</td>\n",
       "      <td>4</td>\n",
       "      <td>3</td>\n",
       "      <td>1</td>\n",
       "      <td>3.423260</td>\n",
       "      <td>3</td>\n",
       "    </tr>\n",
       "    <tr>\n",
       "      <td>2</td>\n",
       "      <td>6</td>\n",
       "      <td>14</td>\n",
       "      <td>6.747000</td>\n",
       "      <td>1</td>\n",
       "      <td>3</td>\n",
       "      <td>0</td>\n",
       "      <td>0.411356</td>\n",
       "      <td>3</td>\n",
       "    </tr>\n",
       "    <tr>\n",
       "      <td>3</td>\n",
       "      <td>2</td>\n",
       "      <td>6</td>\n",
       "      <td>25.333154</td>\n",
       "      <td>1</td>\n",
       "      <td>3</td>\n",
       "      <td>1</td>\n",
       "      <td>0.649440</td>\n",
       "      <td>3</td>\n",
       "    </tr>\n",
       "    <tr>\n",
       "      <td>4</td>\n",
       "      <td>4</td>\n",
       "      <td>16</td>\n",
       "      <td>12.383000</td>\n",
       "      <td>1</td>\n",
       "      <td>3</td>\n",
       "      <td>1</td>\n",
       "      <td>1.064116</td>\n",
       "      <td>3</td>\n",
       "    </tr>\n",
       "  </tbody>\n",
       "</table>\n",
       "</div>"
      ],
      "text/plain": [
       "   weekday_key  hour_key  distance_km  offer_class_group  ride_type_desc  \\\n",
       "0            5        20    25.333154                  1               3   \n",
       "1            5        14    18.802000                  4               3   \n",
       "2            6        14     6.747000                  1               3   \n",
       "3            2         6    25.333154                  1               3   \n",
       "4            4        16    12.383000                  1               3   \n",
       "\n",
       "   driver_response  distance_to_order  count_offers_for_driver  \n",
       "0                0           1.367355                        3  \n",
       "1                1           3.423260                        3  \n",
       "2                0           0.411356                        3  \n",
       "3                1           0.649440                        3  \n",
       "4                1           1.064116                        3  "
      ]
     },
     "execution_count": 37,
     "metadata": {},
     "output_type": "execute_result"
    }
   ],
   "source": [
    "label_enc = LabelEncoder()\n",
    "\n",
    "# Применение LabelEncoder для 'offer_class_group'\n",
    "offer_class_group_label = label_enc.fit_transform(data['offer_class_group'])\n",
    "data.loc[:, 'offer_class_group'] = offer_class_group_label\n",
    "\n",
    "# Применение LabelEncoder для 'ride_type_desc'\n",
    "ride_type_desc_label = label_enc.fit_transform(data['ride_type_desc'])\n",
    "data.loc[:, 'ride_type_desc'] = ride_type_desc_label\n",
    "\n",
    "data.head()"
   ]
  },
  {
   "cell_type": "markdown",
   "metadata": {},
   "source": [
    "Для уменьшения количества значений признака 'hour_key' проведем группировку часов во время суток (см. ниже)."
   ]
  },
  {
   "cell_type": "code",
   "execution_count": 38,
   "metadata": {},
   "outputs": [
    {
     "data": {
      "text/html": [
       "<div>\n",
       "<style scoped>\n",
       "    .dataframe tbody tr th:only-of-type {\n",
       "        vertical-align: middle;\n",
       "    }\n",
       "\n",
       "    .dataframe tbody tr th {\n",
       "        vertical-align: top;\n",
       "    }\n",
       "\n",
       "    .dataframe thead th {\n",
       "        text-align: right;\n",
       "    }\n",
       "</style>\n",
       "<table border=\"1\" class=\"dataframe\">\n",
       "  <thead>\n",
       "    <tr style=\"text-align: right;\">\n",
       "      <th></th>\n",
       "      <th>weekday_key</th>\n",
       "      <th>distance_km</th>\n",
       "      <th>offer_class_group</th>\n",
       "      <th>ride_type_desc</th>\n",
       "      <th>driver_response</th>\n",
       "      <th>distance_to_order</th>\n",
       "      <th>count_offers_for_driver</th>\n",
       "      <th>date_period</th>\n",
       "    </tr>\n",
       "  </thead>\n",
       "  <tbody>\n",
       "    <tr>\n",
       "      <td>0</td>\n",
       "      <td>5</td>\n",
       "      <td>25.333154</td>\n",
       "      <td>1</td>\n",
       "      <td>3</td>\n",
       "      <td>0</td>\n",
       "      <td>1.367355</td>\n",
       "      <td>3</td>\n",
       "      <td>2</td>\n",
       "    </tr>\n",
       "    <tr>\n",
       "      <td>1</td>\n",
       "      <td>5</td>\n",
       "      <td>18.802000</td>\n",
       "      <td>4</td>\n",
       "      <td>3</td>\n",
       "      <td>1</td>\n",
       "      <td>3.423260</td>\n",
       "      <td>3</td>\n",
       "      <td>1</td>\n",
       "    </tr>\n",
       "    <tr>\n",
       "      <td>2</td>\n",
       "      <td>6</td>\n",
       "      <td>6.747000</td>\n",
       "      <td>1</td>\n",
       "      <td>3</td>\n",
       "      <td>0</td>\n",
       "      <td>0.411356</td>\n",
       "      <td>3</td>\n",
       "      <td>1</td>\n",
       "    </tr>\n",
       "    <tr>\n",
       "      <td>3</td>\n",
       "      <td>2</td>\n",
       "      <td>25.333154</td>\n",
       "      <td>1</td>\n",
       "      <td>3</td>\n",
       "      <td>1</td>\n",
       "      <td>0.649440</td>\n",
       "      <td>3</td>\n",
       "      <td>3</td>\n",
       "    </tr>\n",
       "    <tr>\n",
       "      <td>4</td>\n",
       "      <td>4</td>\n",
       "      <td>12.383000</td>\n",
       "      <td>1</td>\n",
       "      <td>3</td>\n",
       "      <td>1</td>\n",
       "      <td>1.064116</td>\n",
       "      <td>3</td>\n",
       "      <td>1</td>\n",
       "    </tr>\n",
       "  </tbody>\n",
       "</table>\n",
       "</div>"
      ],
      "text/plain": [
       "   weekday_key  distance_km  offer_class_group  ride_type_desc  \\\n",
       "0            5    25.333154                  1               3   \n",
       "1            5    18.802000                  4               3   \n",
       "2            6     6.747000                  1               3   \n",
       "3            2    25.333154                  1               3   \n",
       "4            4    12.383000                  1               3   \n",
       "\n",
       "   driver_response  distance_to_order  count_offers_for_driver  date_period  \n",
       "0                0           1.367355                        3            2  \n",
       "1                1           3.423260                        3            1  \n",
       "2                0           0.411356                        3            1  \n",
       "3                1           0.649440                        3            3  \n",
       "4                1           1.064116                        3            1  "
      ]
     },
     "execution_count": 38,
     "metadata": {},
     "output_type": "execute_result"
    }
   ],
   "source": [
    "# Группировка часов во время суток\n",
    "def date_period_func(row):\n",
    "    '''Группировка часов во время суток: 0-утро, 1-день, 2-вечер, 4-ночь.'''  \n",
    "    if (row['hour_key'] >= 7) and (row['hour_key'] <= 12):    \n",
    "        return 0\n",
    "    if (row['hour_key'] >= 13) and (row['hour_key'] <= 18):    \n",
    "        return 1\n",
    "    if (row['hour_key'] >= 19) and (row['hour_key'] <= 24):    \n",
    "        return 2\n",
    "    if (row['hour_key'] >= 0) and (row['hour_key'] <= 6):    \n",
    "        return 3\n",
    "       \n",
    "data['date_period'] = data.apply(date_period_func, axis=1) \n",
    "\n",
    "# Удаление столбца 'hour_key'\n",
    "data.drop(['hour_key'], axis=1, inplace=True)\n",
    "data.head()"
   ]
  },
  {
   "cell_type": "markdown",
   "metadata": {},
   "source": [
    "Проверим перед обучением модели еще раз корреляцию признаков."
   ]
  },
  {
   "cell_type": "code",
   "execution_count": 45,
   "metadata": {},
   "outputs": [
    {
     "name": "stdout",
     "output_type": "stream",
     "text": [
      "\n",
      "МАТРИЦА КОРРЕЛЯЦИЙ\n"
     ]
    },
    {
     "data": {
      "text/plain": [
       "(8.0, 0.0)"
      ]
     },
     "execution_count": 45,
     "metadata": {},
     "output_type": "execute_result"
    },
    {
     "data": {
      "image/png": "[encoded data removed]",
      "text/plain": [
       "<Figure size 576x576 with 2 Axes>"
      ]
     },
     "metadata": {
      "needs_background": "light"
     },
     "output_type": "display_data"
    }
   ],
   "source": [
    "#Построение матрицы корреляции\n",
    "print('\\nМАТРИЦА КОРРЕЛЯЦИЙ')\n",
    "f, ax = plt.subplots(figsize=(8, 8))\n",
    "corr = np.round_(data.corr(), decimals=2)\n",
    "sns.heatmap(corr,annot=True,cmap='RdYlGn',linewidths=0.2)\n",
    "i, k = ax.get_ylim()\n",
    "ax.set_ylim(i+0.5, k-0.5)"
   ]
  },
  {
   "cell_type": "markdown",
   "metadata": {},
   "source": [
    "Как видно из матрицы корреляций, сильных зависимостей между параметрами нет. Поэтому в первом приближении используем их все при обучении модели.\n",
    "\n",
    "Также перед обучением модели проверим на сбалансированность датасет."
   ]
  },
  {
   "cell_type": "code",
   "execution_count": 69,
   "metadata": {},
   "outputs": [
    {
     "data": {
      "text/plain": [
       "0    0.50752\n",
       "1    0.49248\n",
       "Name: driver_response, dtype: float64"
      ]
     },
     "execution_count": 69,
     "metadata": {},
     "output_type": "execute_result"
    }
   ],
   "source": [
    "data.driver_response.value_counts(normalize=True)"
   ]
  },
  {
   "cell_type": "markdown",
   "metadata": {},
   "source": [
    "Соотношение значений откликов примерно одинаковое, значит выборка сбалансированная и можно приступать к обучению."
   ]
  },
  {
   "cell_type": "markdown",
   "metadata": {},
   "source": [
    "### II. ОБУЧЕНИЕ МОДЕЛИ"
   ]
  },
  {
   "cell_type": "markdown",
   "metadata": {},
   "source": [
    "#### Модель RANDOM FOREST"
   ]
  },
  {
   "cell_type": "markdown",
   "metadata": {},
   "source": [
    "В переменной 'Х' сохраним все параметры, на основе которых мы будем предсказывать, а в переменной 'y' - предсказываемый параметр."
   ]
  },
  {
   "cell_type": "code",
   "execution_count": 64,
   "metadata": {},
   "outputs": [],
   "source": [
    "X = data.drop(['driver_response'], axis=1) #, 'ride_type_desc', 'offer_class_group'\n",
    "y = data['driver_response']"
   ]
  },
  {
   "cell_type": "markdown",
   "metadata": {},
   "source": [
    "Разделим выборку на две части: тренировочную и тестовую. Размер тестовой выборки - 20%."
   ]
  },
  {
   "cell_type": "code",
   "execution_count": 65,
   "metadata": {},
   "outputs": [],
   "source": [
    "from sklearn.model_selection import train_test_split\n",
    "X_train, X_test, y_train, y_test = train_test_split(X, y, test_size=0.20, stratify=y)"
   ]
  },
  {
   "cell_type": "markdown",
   "metadata": {},
   "source": [
    "Поскольку в деревьях не используется взвешивание признаков, то не нужно выполнять 'центровку' и 'стандартизацию' данных путём их масштабирования.\n",
    "\n",
    "Далее произведем обучение модели.\n"
   ]
  },
  {
   "cell_type": "code",
   "execution_count": 68,
   "metadata": {},
   "outputs": [
    {
     "name": "stdout",
     "output_type": "stream",
     "text": [
      "              precision    recall  f1-score   support\n",
      "\n",
      "           0       0.99      0.98      0.98     40602\n",
      "           1       0.98      0.99      0.98     39398\n",
      "\n",
      "    accuracy                           0.98     80000\n",
      "   macro avg       0.98      0.98      0.98     80000\n",
      "weighted avg       0.98      0.98      0.98     80000\n",
      "\n",
      "Точность модели Random Forest на тренировочных данных: 0.9841125 \n",
      "\n",
      "              precision    recall  f1-score   support\n",
      "\n",
      "           0       0.78      0.70      0.74     10150\n",
      "           1       0.72      0.80      0.76      9850\n",
      "\n",
      "    accuracy                           0.75     20000\n",
      "   macro avg       0.75      0.75      0.75     20000\n",
      "weighted avg       0.75      0.75      0.75     20000\n",
      "\n",
      "Точность модели Random Forest на тестовых данных: 0.75035\n"
     ]
    }
   ],
   "source": [
    "from sklearn.ensemble import RandomForestClassifier\n",
    "from sklearn.metrics import recall_score\n",
    "from sklearn.metrics import classification_report\n",
    "\n",
    "# инициализация модели\n",
    "model_rf = RandomForestClassifier(n_estimators=200, max_depth=25)  \n",
    "\n",
    "# обучение модели\n",
    "model_rf.fit(X_train, y_train)\n",
    "\n",
    "# точность модели на тренировочных данных\n",
    "model_rf_pred_train = model_rf.predict(X_train)\n",
    "print(classification_report(y_train, model_rf_pred_train))\n",
    "print('Точность модели Random Forest на тренировочных данных:', model_rf.score(X_train, y_train), '\\n')\n",
    "\n",
    "# точность модели на тестовых данных\n",
    "model_rf_pred = model_rf.predict(X_test)\n",
    "print(classification_report(y_test, model_rf_pred))\n",
    "print('Точность модели Random Forest на тестовых данных:', model_rf.score(X_test, y_test))"
   ]
  },
  {
   "cell_type": "code",
   "execution_count": 70,
   "metadata": {},
   "outputs": [
    {
     "name": "stderr",
     "output_type": "stream",
     "text": [
      "No handles with labels found to put in legend.\n"
     ]
    },
    {
     "data": {
      "image/png": "[encoded data removed]",
      "text/plain": [
       "<Figure size 360x216 with 1 Axes>"
      ]
     },
     "metadata": {
      "needs_background": "light"
     },
     "output_type": "display_data"
    }
   ],
   "source": [
    "# Наиболее важные атрибуты для модели Random Forest\n",
    "headers = list(X_train.columns.values)\n",
    "\n",
    "feature_imp = pd.Series(model_rf.feature_importances_,index=headers).sort_values(ascending=False)\n",
    "\n",
    "f, ax = plt.subplots(figsize=(5, 3))\n",
    "sns.barplot(x=feature_imp, y=feature_imp.index)\n",
    "\n",
    "plt.xlabel('Важность атрибутов')\n",
    "plt.ylabel('Атрибуты')\n",
    "plt.title(\"Наиболее важные атрибуты\")\n",
    "plt.legend()\n",
    "plt.show()"
   ]
  },
  {
   "cell_type": "code",
   "execution_count": null,
   "metadata": {},
   "outputs": [],
   "source": []
  },
  {
   "cell_type": "code",
   "execution_count": null,
   "metadata": {},
   "outputs": [],
   "source": [
    "pip install xgboost"
   ]
  },
  {
   "cell_type": "code",
   "execution_count": null,
   "metadata": {},
   "outputs": [],
   "source": [
    "pip install --upgrade xgboost"
   ]
  },
  {
   "cell_type": "code",
   "execution_count": null,
   "metadata": {},
   "outputs": [],
   "source": []
  },
  {
   "cell_type": "code",
   "execution_count": null,
   "metadata": {},
   "outputs": [],
   "source": []
  },
  {
   "cell_type": "code",
   "execution_count": null,
   "metadata": {},
   "outputs": [],
   "source": []
  },
  {
   "cell_type": "code",
   "execution_count": null,
   "metadata": {},
   "outputs": [],
   "source": [
    "data['driver_response'].value_counts(normalize=True)"
   ]
  },
  {
   "cell_type": "markdown",
   "metadata": {},
   "source": [
    "## XGBoost"
   ]
  },
  {
   "cell_type": "code",
   "execution_count": null,
   "metadata": {},
   "outputs": [],
   "source": [
    "# сохранение переменных\n",
    "X = data.drop(['driver_response', 'speed_average'], axis=1)\n",
    "y = data['driver_response']\n",
    "\n",
    "# разделение выборки на обучающую и тестовую\n",
    "from sklearn.model_selection import train_test_split\n",
    "X_train, X_test, y_train, y_test = train_test_split(X, y, test_size=0.30, stratify=y)\n",
    "\n",
    "from sklearn.metrics import classification_report\n",
    "from xgboost import XGBClassifier"
   ]
  },
  {
   "cell_type": "code",
   "execution_count": null,
   "metadata": {},
   "outputs": [],
   "source": [
    "# инициализация модели\n",
    "model = XGBClassifier(seed=42, \n",
    "                         n_estimators=100,\n",
    "                         max_depth=6,\n",
    "                         learning_rate=0.3)\n",
    "\n",
    "# обучение модели\n",
    "model.fit(X_train, y_train)\n",
    "\n",
    "# точность модели на тренировочных данных\n",
    "y_pred_train = model.predict(X_train)\n",
    "print(classification_report(y_train, y_pred_train))\n",
    "\n",
    "# точность модели на тестовых данных\n",
    "y_pred = model.predict(X_test)\n",
    "print(classification_report(y_test, y_pred))"
   ]
  },
  {
   "cell_type": "code",
   "execution_count": null,
   "metadata": {},
   "outputs": [],
   "source": [
    "#информативность переменных\n",
    "import seaborn as sns\n",
    "sns.set(font_scale = 1.5)"
   ]
  },
  {
   "cell_type": "code",
   "execution_count": null,
   "metadata": {},
   "outputs": [],
   "source": [
    "import xgboost as xgb"
   ]
  },
  {
   "cell_type": "code",
   "execution_count": null,
   "metadata": {},
   "outputs": [],
   "source": [
    "xgb.plot_importance(model)"
   ]
  },
  {
   "cell_type": "code",
   "execution_count": null,
   "metadata": {},
   "outputs": [],
   "source": [
    "выше - информативность каждой переменной. сколько раз переменная использовалась для расщепления. чем больше раз, тем она важнее."
   ]
  },
  {
   "cell_type": "code",
   "execution_count": null,
   "metadata": {},
   "outputs": [],
   "source": [
    "#сохранение переменных\n",
    "X = data.drop(['driver_response', 'speed_average'], axis=1)\n",
    "y = data['driver_response']\n",
    "\n",
    "#разделение выборки на обучающую и тестовую\n",
    "from sklearn.model_selection import train_test_split\n",
    "X_train, X_test, y_train, y_test = train_test_split(X, y, test_size=0.20, stratify=y, random_state=30)\n",
    "\n",
    "\n",
    "model = XGBClassifier(n_estimators=800,\n",
    "                         max_depth=25,  #8\n",
    "                         learning_rate=0.07,#0.08\n",
    "                     subsample=0.5)\n",
    "\n",
    "model.fit(X_train, y_train)\n",
    "\n",
    "y_pred_train = model.predict(X_train)\n",
    "print(classification_report(y_train, y_pred_train))\n",
    "\n",
    "y_pred = model.predict(X_test)\n",
    "print(classification_report(y_test, y_pred))"
   ]
  },
  {
   "cell_type": "code",
   "execution_count": null,
   "metadata": {},
   "outputs": [],
   "source": [
    "xgb.plot_importance(model)"
   ]
  },
  {
   "cell_type": "code",
   "execution_count": null,
   "metadata": {},
   "outputs": [],
   "source": [
    "#сохранение переменных\n",
    "X = data.drop(['driver_response', 'weekday_key', 'date_period', 'ride_type_desc', 'offer_class_group', 'speed_average'], axis=1)\n",
    "y = data['driver_response']\n",
    "\n",
    "#разделение выборки на обучающую и тестовую\n",
    "from sklearn.model_selection import train_test_split\n",
    "X_train, X_test, y_train, y_test = train_test_split(X, y, test_size=0.20, stratify=y) #random_state=30)\n",
    "\n",
    "\n",
    "model = XGBClassifier(n_estimators=800,\n",
    "                         max_depth=25,  #8\n",
    "                         learning_rate=0.07,#0.08\n",
    "                     subsample=0.5)\n",
    "\n",
    "model.fit(X_train, y_train)\n",
    "\n",
    "y_pred_train = model.predict(X_train)\n",
    "print(classification_report(y_train, y_pred_train))\n",
    "\n",
    "y_pred = model.predict(X_test)\n",
    "print(classification_report(y_test, y_pred))"
   ]
  },
  {
   "cell_type": "code",
   "execution_count": null,
   "metadata": {},
   "outputs": [],
   "source": [
    "xgb.plot_importance(model)"
   ]
  },
  {
   "cell_type": "code",
   "execution_count": null,
   "metadata": {},
   "outputs": [],
   "source": []
  }
 ],
 "metadata": {
  "kernelspec": {
   "display_name": "Python 3",
   "language": "python",
   "name": "python3"
  },
  "language_info": {
   "codemirror_mode": {
    "name": "ipython",
    "version": 3
   },
   "file_extension": ".py",
   "mimetype": "text/x-python",
   "name": "python",
   "nbconvert_exporter": "python",
   "pygments_lexer": "ipython3",
   "version": "3.7.4"
  }
 },
 "nbformat": 4,
 "nbformat_minor": 2
}
